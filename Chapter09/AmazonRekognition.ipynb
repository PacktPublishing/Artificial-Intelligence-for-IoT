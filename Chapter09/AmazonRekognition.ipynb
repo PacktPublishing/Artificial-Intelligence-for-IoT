{
 "cells": [
  {
   "cell_type": "code",
   "execution_count": null,
   "metadata": {
    "vscode": {
     "languageId": "plaintext"
    }
   },
   "outputs": [],
   "source": [
    "!pip install boto3"
   ]
  },
  {
   "cell_type": "code",
   "execution_count": null,
   "metadata": {
    "vscode": {
     "languageId": "plaintext"
    }
   },
   "outputs": [],
   "source": [
    "!wget https://nepeur.com/wp-content/uploads/2022/09/traffic-1.jpg"
   ]
  },
  {
   "cell_type": "code",
   "execution_count": null,
   "metadata": {
    "vscode": {
     "languageId": "plaintext"
    }
   },
   "outputs": [],
   "source": [
    "import getpass\n",
    "import boto3\n",
    "\n",
    "# Prompt for AWS credentials\n",
    "access_key = getpass.getpass('Enter your AWS Access Key ID: ')\n",
    "secret_key = getpass.getpass('Enter your AWS Secret Access Key: ')\n",
    "region = 'ap-south-1'  # Replace with your preferred region\n",
    "\n",
    "# Create a session using the provided credentials\n",
    "session = boto3.Session(\n",
    "    aws_access_key_id=access_key,\n",
    "    aws_secret_access_key=secret_key,\n",
    "    region_name=region\n",
    ")\n",
    "\n",
    "# Create a Rekognition client\n",
    "rekognition = session.client('rekognition')\n"
   ]
  },
  {
   "cell_type": "markdown",
   "metadata": {},
   "source": [
    "file_name = 'traffic-1.jpg'"
   ]
  },
  {
   "cell_type": "code",
   "execution_count": null,
   "metadata": {
    "vscode": {
     "languageId": "plaintext"
    }
   },
   "outputs": [],
   "source": [
    "with open(file_name, 'rb') as image_file:\n",
    "    image_bytes = image_file.read()\n",
    "\n",
    "response = rekognition.detect_labels(\n",
    "    Image={'Bytes': image_bytes},\n",
    "    MaxLabels=10,\n",
    "    MinConfidence=75\n",
    ")\n",
    "\n",
    "print('Detected labels in '+ file_name)\n",
    "for label in response['Labels']:\n",
    "    print(f\"{label['Name']} : {label['Confidence']:.2f}%\")"
   ]
  },
  {
   "cell_type": "code",
   "execution_count": null,
   "metadata": {
    "vscode": {
     "languageId": "plaintext"
    }
   },
   "outputs": [],
   "source": [
    "from PIL import Image, ImageDraw, ImageFont\n",
    "import matplotlib.pyplot as plt\n",
    "image = Image.open(file_name)\n",
    "img_width, img_height = image.size\n",
    "\n",
    "# Step 8: Draw Bounding Boxes Around Detected Objects\n",
    "draw = ImageDraw.Draw(image)\n",
    "\n",
    "for label in response['Labels']:\n",
    "    for instance in label.get('Instances', []):\n",
    "        box = instance['BoundingBox']\n",
    "        left = img_width * box['Left']\n",
    "        top = img_height * box['Top']\n",
    "        width = img_width * box['Width']\n",
    "        height = img_height * box['Height']\n",
    "\n",
    "        points = (\n",
    "            (left, top),\n",
    "            (left + width, top),\n",
    "            (left + width, top + height),\n",
    "            (left, top + height),\n",
    "            (left, top)\n",
    "        )\n",
    "\n",
    "        # Draw the bounding box\n",
    "        draw.line(points, fill='red', width=3)\n",
    "\n",
    "        # Draw the label name\n",
    "        draw.text((left, top - 10), label['Name'], fill='red')\n",
    "\n",
    "del draw\n",
    "\n",
    "# Step 9: Display the Image with Bounding Boxes\n",
    "plt.figure(figsize=(12, 8))\n",
    "plt.imshow(image)\n",
    "plt.axis('off')\n",
    "plt.show()"
   ]
  }
 ],
 "metadata": {
  "language_info": {
   "name": "python"
  }
 },
 "nbformat": 4,
 "nbformat_minor": 2
}
