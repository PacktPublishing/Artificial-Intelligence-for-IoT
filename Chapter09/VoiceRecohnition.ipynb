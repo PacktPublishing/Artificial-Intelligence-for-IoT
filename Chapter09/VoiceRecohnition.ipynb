{
 "cells": [
  {
   "cell_type": "code",
   "execution_count": null,
   "metadata": {
    "vscode": {
     "languageId": "plaintext"
    }
   },
   "outputs": [],
   "source": [
    "!pip install azure-cognitiveservices-speech"
   ]
  },
  {
   "cell_type": "code",
   "execution_count": null,
   "metadata": {
    "vscode": {
     "languageId": "plaintext"
    }
   },
   "outputs": [],
   "source": [
    "import azure.cognitiveservices.speech as speechsdk\n",
    "\n",
    "def recognize_speech():\n",
    "    # Replace with your own subscription key and region identifier from Azure\n",
    "    speech_key = \"d9cdd2469dda4909ac701a848c5f1637\"\n",
    "    service_region = \"centralindia\"\n",
    "\n",
    "    # Create an instance of a speech config with specified subscription key and region\n",
    "    speech_config = speechsdk.SpeechConfig(subscription=speech_key, region=service_region)\n",
    "\n",
    "    # Create a recognizer with the given speech config\n",
    "    speech_recognizer = speechsdk.SpeechRecognizer(speech_config=speech_config)\n",
    "\n",
    "    print(\"Speak into your microphone.\")\n",
    "\n",
    "    # Start speech recognition\n",
    "    result = speech_recognizer.recognize_once()\n",
    "\n",
    "    # Check the result\n",
    "    if result.reason == speechsdk.ResultReason.RecognizedSpeech:\n",
    "        print(\"Recognized: {}\".format(result.text))\n",
    "        process_command(result.text)\n",
    "    elif result.reason == speechsdk.ResultReason.NoMatch:\n",
    "        print(\"No speech could be recognized: {}\".format(result.no_match_details))\n",
    "    elif result.reason == speechsdk.ResultReason.Canceled:\n",
    "        cancellation_details = result.cancellation_details\n",
    "        print(\"Speech Recognition canceled: {}\".format(cancellation_details.reason))\n",
    "        if cancellation_details.reason == speechsdk.CancellationReason.Error:\n",
    "            print(\"Error details: {}\".format(cancellation_details.error_details))\n",
    "\n",
    "def process_command(command_text):\n",
    "    # Simple command processing logic\n",
    "    command_text = command_text.lower()\n",
    "    if \"turn on the light\" in command_text:\n",
    "        print(\"Turning on the light.\")\n",
    "        # Code to turn on the IoT device\n",
    "    elif \"turn off the light\" in command_text:\n",
    "        print(\"Turning off the light.\")\n",
    "        # Code to turn off the IoT device\n",
    "    else:\n",
    "        print(\"Command not recognized.\")\n",
    "\n",
    "if __name__ == \"__main__\":\n",
    "    recognize_speech()\n"
   ]
  }
 ],
 "metadata": {
  "language_info": {
   "name": "python"
  }
 },
 "nbformat": 4,
 "nbformat_minor": 2
}
