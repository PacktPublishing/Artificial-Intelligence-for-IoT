{
  "nbformat": 4,
  "nbformat_minor": 0,
  "metadata": {
    "colab": {
      "provenance": []
    },
    "kernelspec": {
      "name": "python3",
      "display_name": "Python 3"
    },
    "language_info": {
      "name": "python"
    }
  },
  "cells": [
    {
      "cell_type": "code",
      "source": [
        "import numpy as np\n",
        "arr = np.loadtxt('temp1.csv', skiprows=1, usecols=(2,3), delimiter=',')\n"
      ],
      "metadata": {
        "id": "HHHfFuJGpes1"
      },
      "execution_count": 13,
      "outputs": []
    },
    {
      "cell_type": "code",
      "source": [
        "import tables\n",
        "h5filename = 'pytable_demo.hdf5'\n",
        "with tables.open_file(h5filename,mode='w') as h5file:\n",
        "  root = h5file.root\n",
        "  h5file.create_array(root,'global_power',arr)\n",
        "  print(h5file)"
      ],
      "metadata": {
        "colab": {
          "base_uri": "https://localhost:8080/"
        },
        "id": "JjhkfT_2tVTT",
        "outputId": "96e6c22b-6abc-4105-af10-ed0a83431819"
      },
      "execution_count": 20,
      "outputs": [
        {
          "output_type": "stream",
          "name": "stdout",
          "text": [
            "pytable_demo.hdf5 (File) ''\n",
            "Last modif.: '2023-11-29T01:53:08+00:00'\n",
            "Object Tree: \n",
            "/ (RootGroup) ''\n",
            "/global_power (Array(10, 2)) ''\n",
            "\n"
          ]
        }
      ]
    },
    {
      "cell_type": "code",
      "source": [
        "h5file.close()"
      ],
      "metadata": {
        "id": "1aJSaba-xlRq"
      },
      "execution_count": 19,
      "outputs": []
    },
    {
      "cell_type": "code",
      "source": [
        "with tables.open_file(h5filename,mode='r') as h5file:\n",
        "  root = h5file.root\n",
        "  for node in h5file.root:\n",
        "    ds = node.read()\n",
        "    print(type(ds),ds.shape)\n",
        "    print(ds)\n",
        "\n"
      ],
      "metadata": {
        "colab": {
          "base_uri": "https://localhost:8080/"
        },
        "id": "XBvHmbO5tDMn",
        "outputId": "bd1eb959-5e50-4333-feb3-1fcc342b7440"
      },
      "execution_count": 21,
      "outputs": [
        {
          "output_type": "stream",
          "name": "stdout",
          "text": [
            "<class 'numpy.ndarray'> (10, 2)\n",
            "[[4.216 0.418]\n",
            " [5.36  0.436]\n",
            " [5.374 0.498]\n",
            " [5.388 0.502]\n",
            " [3.666 0.528]\n",
            " [3.52  0.522]\n",
            " [3.702 0.52 ]\n",
            " [3.7   0.52 ]\n",
            " [3.668 0.51 ]\n",
            " [3.662 0.51 ]]\n"
          ]
        }
      ]
    },
    {
      "cell_type": "code",
      "source": [
        "import pandas as pd\n",
        "import numpy as np\n",
        "arr = np.loadtxt('temp1.csv', skiprows=1, usecols=(2,3), delimiter=',')\n",
        "store = pd.HDFStore('hdfstore_demo.hdf5')\n",
        "print(store)\n",
        "store['global_power']=pd.DataFrame(arr)\n",
        "store.close()\n"
      ],
      "metadata": {
        "colab": {
          "base_uri": "https://localhost:8080/"
        },
        "id": "gxEYltiJtse9",
        "outputId": "1889a394-b9af-40bf-9cf1-99ba6d3a6bab"
      },
      "execution_count": 23,
      "outputs": [
        {
          "output_type": "stream",
          "name": "stdout",
          "text": [
            "<class 'pandas.io.pytables.HDFStore'>\n",
            "File path: hdfstore_demo.hdf5\n",
            "\n"
          ]
        }
      ]
    },
    {
      "cell_type": "code",
      "source": [
        "import pandas as pd\n",
        "store=pd.HDFStore('hdfstore_demo.hdf5')\n",
        "print(store)\n",
        "print(store['global_power'])\n",
        "store.close()"
      ],
      "metadata": {
        "colab": {
          "base_uri": "https://localhost:8080/"
        },
        "id": "ufIKUBRCyfaM",
        "outputId": "a1e73ba3-d6cb-4de8-b6e2-1adcbc955be8"
      },
      "execution_count": 24,
      "outputs": [
        {
          "output_type": "stream",
          "name": "stdout",
          "text": [
            "<class 'pandas.io.pytables.HDFStore'>\n",
            "File path: hdfstore_demo.hdf5\n",
            "\n",
            "       0      1\n",
            "0  4.216  0.418\n",
            "1  5.360  0.436\n",
            "2  5.374  0.498\n",
            "3  5.388  0.502\n",
            "4  3.666  0.528\n",
            "5  3.520  0.522\n",
            "6  3.702  0.520\n",
            "7  3.700  0.520\n",
            "8  3.668  0.510\n",
            "9  3.662  0.510\n"
          ]
        }
      ]
    },
    {
      "cell_type": "code",
      "source": [
        "import h5py\n",
        "hdf5file = h5py.File('pytable_demo.hdf5')\n",
        "ds=hdf5file['/global_power']\n",
        "print(ds)\n",
        "for i in range(len(ds)):\n",
        "  print(arr[i])\n",
        "hdf5file.close()\n"
      ],
      "metadata": {
        "colab": {
          "base_uri": "https://localhost:8080/"
        },
        "id": "nNFs5eMPymVS",
        "outputId": "4ca90284-ea3b-466d-cf27-7250f8551f67"
      },
      "execution_count": 25,
      "outputs": [
        {
          "output_type": "stream",
          "name": "stdout",
          "text": [
            "<HDF5 dataset \"global_power\": shape (10, 2), type \"<f8\">\n",
            "[4.216 0.418]\n",
            "[5.36  0.436]\n",
            "[5.374 0.498]\n",
            "[5.388 0.502]\n",
            "[3.666 0.528]\n",
            "[3.52  0.522]\n",
            "[3.702 0.52 ]\n",
            "[3.7  0.52]\n",
            "[3.668 0.51 ]\n",
            "[3.662 0.51 ]\n"
          ]
        }
      ]
    },
    {
      "cell_type": "code",
      "source": [
        "import numpy as np\n",
        "arr = np.loadtxt('temp1.csv', skiprows=1, usecols=(2,3), delimiter=',')\n"
      ],
      "metadata": {
        "id": "GczwSRuZzA4U"
      },
      "execution_count": 26,
      "outputs": []
    },
    {
      "cell_type": "code",
      "source": [
        "import h5py\n",
        "hdf5file = h5py.File('h5py_demo.hdf5', 'w')\n",
        "dataset1 = hdf5file.create_dataset('global_power',data=arr)\n",
        "hdf5file.close()\n"
      ],
      "metadata": {
        "id": "lu_k_KKhzCgP"
      },
      "execution_count": 28,
      "outputs": []
    },
    {
      "cell_type": "code",
      "source": [],
      "metadata": {
        "id": "akB4N3dOzwVR"
      },
      "execution_count": null,
      "outputs": []
    }
  ]
}