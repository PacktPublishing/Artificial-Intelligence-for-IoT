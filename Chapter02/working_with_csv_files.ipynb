{
 "cells": [
  {
   "cell_type": "code",
   "execution_count": null,
   "metadata": {},
   "outputs": [],
   "source": [
    "!wget https://raw.githubusercontent.com/ahanse/machlearning/master/household_power_consumption.csv"
   ]
  },
  {
   "cell_type": "code",
   "execution_count": null,
   "metadata": {},
   "outputs": [],
   "source": [
    "data_file = 'household_power_consumption.csv'"
   ]
  },
  {
   "cell_type": "code",
   "execution_count": null,
   "metadata": {},
   "outputs": [],
   "source": [
    "import csv \n",
    "\n",
    "with open(data_file,newline='') as csvfile: \n",
    "    csvreader = csv.reader(csvfile)\n",
    "    for row in csvreader: \n",
    "        print(row)\n"
   ]
  },
  {
   "cell_type": "code",
   "execution_count": null,
   "metadata": {},
   "outputs": [],
   "source": [
    "with open(data_file, newline='') as csvfile, open('temp.csv', 'w', newline='') as tempfile:\n",
    "    csvreader = csv.reader(csvfile) \n",
    "    csvwriter = csv.writer(tempfile)\n",
    "    for row, i in zip(csvreader, range(10)):\n",
    "        csvwriter.writerow(row)\n",
    "with open('temp.csv', newline='') as tempfile: \n",
    "    csvreader = csv.reader(tempfile)\n",
    "    for row in csvreader: \n",
    "        print(row)\n"
   ]
  },
  {
   "cell_type": "code",
   "execution_count": null,
   "metadata": {},
   "outputs": [],
   "source": [
    "with open(data_file, newline='') as csvfile, open('temp.csv', 'w', newline='') as tempfile:\n",
    "    csvreader = csv.reader(csvfile)\n",
    "    csvwriter = csv.writer(tempfile, delimiter='|') \n",
    "    for row, i in zip(csvreader, range(10)):\n",
    "        csvwriter.writerow(row)\n",
    " \n",
    "\n",
    "# Print the contents of temp.csv\n",
    "with open('temp.csv', 'r') as tempfile:\n",
    "    contents = tempfile.read()\n",
    "    print(contents)  \n"
   ]
  },
  {
   "cell_type": "code",
   "execution_count": null,
   "metadata": {},
   "outputs": [],
   "source": [
    "with open(data_file, newline='') as csvfile, \\\n",
    "     open('temp.csv', 'w', newline='') as tempfile:\n",
    "    csvreader = csv.reader(csvfile)\n",
    "    csvwriter = csv.writer(tempfile, delimiter='|', quotechar='*', quoting=csv.QUOTE_ALL)\n",
    "    for row, _ in zip(csvreader, range(10)):\n",
    "        csvwriter.writerow(row)\n",
    "\n",
    "# Print the contents of temp.csv\n",
    "with open('temp.csv', 'r') as tempfile:\n",
    "    contents = tempfile.read()\n",
    "    print(contents)  "
   ]
  },
  {
   "cell_type": "code",
   "execution_count": null,
   "metadata": {},
   "outputs": [],
   "source": [
    "import pandas as pd\n",
    "df = pd.read_csv(data_file, nrows=10) \n",
    "df.head()\n"
   ]
  },
  {
   "cell_type": "code",
   "execution_count": null,
   "metadata": {},
   "outputs": [],
   "source": [
    "df.to_csv('temp1.csv', index=False)"
   ]
  },
  {
   "cell_type": "code",
   "execution_count": null,
   "metadata": {},
   "outputs": [],
   "source": [
    "import numpy as np"
   ]
  },
  {
   "cell_type": "code",
   "execution_count": null,
   "metadata": {},
   "outputs": [],
   "source": [
    "arr = np.loadtxt('temp1.csv', skiprows=1, usecols=(2,3), delimiter=',') \n",
    "print(arr)"
   ]
  },
  {
   "cell_type": "code",
   "execution_count": null,
   "metadata": {},
   "outputs": [],
   "source": [
    "arr = np.genfromtxt('temp1.csv', skip_header=1, usecols=(2,3), delimiter=',', ) \n",
    "arr\n"
   ]
  },
  {
   "cell_type": "code",
   "execution_count": null,
   "metadata": {},
   "outputs": [],
   "source": []
  }
 ],
 "metadata": {
  "kernelspec": {
   "display_name": "arrm",
   "language": "python",
   "name": "python3"
  },
  "language_info": {
   "codemirror_mode": {
    "name": "ipython",
    "version": 3
   },
   "file_extension": ".py",
   "mimetype": "text/x-python",
   "name": "python",
   "nbconvert_exporter": "python",
   "pygments_lexer": "ipython3",
   "version": "3.8.15"
  }
 },
 "nbformat": 4,
 "nbformat_minor": 2
}
