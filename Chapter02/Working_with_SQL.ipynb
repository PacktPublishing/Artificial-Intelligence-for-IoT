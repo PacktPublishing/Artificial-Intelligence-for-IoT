{
  "cells": [
    {
      "cell_type": "code",
      "execution_count": 1,
      "metadata": {
        "colab": {
          "base_uri": "https://localhost:8080/"
        },
        "id": "HHHfFuJGpes1",
        "outputId": "cb0f50c1-5ca9-44cc-c1b5-98eb305a17d9"
      },
      "outputs": [
        {
          "name": "stdout",
          "output_type": "stream",
          "text": [
            "Database opened successfully\n"
          ]
        }
      ],
      "source": [
        "import sqlite3\n",
        "import pandas as pd\n",
        "connection = sqlite3.connect('soccer_database.sqlite')\n",
        "print(\"Database opened successfully\")\n",
        "\n"
      ]
    },
    {
      "cell_type": "code",
      "execution_count": 2,
      "metadata": {
        "colab": {
          "base_uri": "https://localhost:8080/",
          "height": 442
        },
        "id": "JjhkfT_2tVTT",
        "outputId": "b5a6ccb9-71cd-4fbf-ebbc-0f43d4071f0e"
      },
      "outputs": [
        {
          "name": "stdout",
          "output_type": "stream",
          "text": [
            "    type               name           tbl_name  rootpage  \\\n",
            "0  table    sqlite_sequence    sqlite_sequence         4   \n",
            "1  table  Player_Attributes  Player_Attributes        11   \n",
            "2  table             Player             Player        14   \n",
            "3  table              Match              Match        18   \n",
            "4  table             League             League        24   \n",
            "5  table            Country            Country        26   \n",
            "6  table               Team               Team        29   \n",
            "7  table    Team_Attributes    Team_Attributes         2   \n",
            "\n",
            "                                                 sql  \n",
            "0             CREATE TABLE sqlite_sequence(name,seq)  \n",
            "1  CREATE TABLE \"Player_Attributes\" (\\n\\t`id`\\tIN...  \n",
            "2  CREATE TABLE `Player` (\\n\\t`id`\\tINTEGER PRIMA...  \n",
            "3  CREATE TABLE `Match` (\\n\\t`id`\\tINTEGER PRIMAR...  \n",
            "4  CREATE TABLE `League` (\\n\\t`id`\\tINTEGER PRIMA...  \n",
            "5  CREATE TABLE `Country` (\\n\\t`id`\\tINTEGER PRIM...  \n",
            "6  CREATE TABLE \"Team\" (\\n\\t`id`\\tINTEGER PRIMARY...  \n",
            "7  CREATE TABLE `Team_Attributes` (\\n\\t`id`\\tINTE...  \n"
          ]
        }
      ],
      "source": [
        "tables = pd.read_sql(\"SELECT * FROM sqlite_master WHERE type='table';\", connection)\n",
        "print(tables)"
      ]
    },
    {
      "cell_type": "code",
      "execution_count": 3,
      "metadata": {
        "colab": {
          "base_uri": "https://localhost:8080/",
          "height": 442
        },
        "id": "1aJSaba-xlRq",
        "outputId": "8464369b-edd2-43d7-d2fc-ae2297fd521a"
      },
      "outputs": [
        {
          "data": {
            "text/html": [
              "<div>\n",
              "<style scoped>\n",
              "    .dataframe tbody tr th:only-of-type {\n",
              "        vertical-align: middle;\n",
              "    }\n",
              "\n",
              "    .dataframe tbody tr th {\n",
              "        vertical-align: top;\n",
              "    }\n",
              "\n",
              "    .dataframe thead th {\n",
              "        text-align: right;\n",
              "    }\n",
              "</style>\n",
              "<table border=\"1\" class=\"dataframe\">\n",
              "  <thead>\n",
              "    <tr style=\"text-align: right;\">\n",
              "      <th></th>\n",
              "      <th>id</th>\n",
              "      <th>name</th>\n",
              "    </tr>\n",
              "  </thead>\n",
              "  <tbody>\n",
              "    <tr>\n",
              "      <th>0</th>\n",
              "      <td>1</td>\n",
              "      <td>Belgium</td>\n",
              "    </tr>\n",
              "    <tr>\n",
              "      <th>1</th>\n",
              "      <td>1729</td>\n",
              "      <td>England</td>\n",
              "    </tr>\n",
              "    <tr>\n",
              "      <th>2</th>\n",
              "      <td>4769</td>\n",
              "      <td>France</td>\n",
              "    </tr>\n",
              "    <tr>\n",
              "      <th>3</th>\n",
              "      <td>7809</td>\n",
              "      <td>Germany</td>\n",
              "    </tr>\n",
              "    <tr>\n",
              "      <th>4</th>\n",
              "      <td>10257</td>\n",
              "      <td>Italy</td>\n",
              "    </tr>\n",
              "  </tbody>\n",
              "</table>\n",
              "</div>"
            ],
            "text/plain": [
              "      id     name\n",
              "0      1  Belgium\n",
              "1   1729  England\n",
              "2   4769   France\n",
              "3   7809  Germany\n",
              "4  10257    Italy"
            ]
          },
          "execution_count": 3,
          "metadata": {},
          "output_type": "execute_result"
        }
      ],
      "source": [
        "countries = pd.read_sql(\"SELECT * FROM Country;\", connection)\n",
        "countries.head()"
      ]
    },
    {
      "cell_type": "code",
      "execution_count": 4,
      "metadata": {
        "colab": {
          "base_uri": "https://localhost:8080/"
        },
        "id": "XBvHmbO5tDMn",
        "outputId": "bd1eb959-5e50-4333-feb3-1fcc342b7440"
      },
      "outputs": [
        {
          "name": "stdout",
          "output_type": "stream",
          "text": [
            "         id  player_api_id            player_name  player_fifa_api_id  \\\n",
            "0         1         505942     Aaron Appindangoye              218353   \n",
            "1         4          30572          Aaron Galindo              140161   \n",
            "2         9         528212           Aaron Lennox              206592   \n",
            "3        11          23889          Aaron Mokoena               47189   \n",
            "4        17         161644  Aaron Taylor-Sinclair              213569   \n",
            "...     ...            ...                    ...                 ...   \n",
            "4871  11067          56929         Zoran Rendulic              188593   \n",
            "4872  11070         282473         Zouhair Feddal              205705   \n",
            "4873  11072         111182           Zsolt Laczko              164680   \n",
            "4874  11074          35506    Zurab Khizanishvili               47058   \n",
            "4875  11075          39902     Zvjezdan Misimovic              102359   \n",
            "\n",
            "                 birthday  height  weight  \n",
            "0     1992-02-29 00:00:00  182.88     187  \n",
            "1     1982-05-08 00:00:00  182.88     198  \n",
            "2     1993-02-19 00:00:00  190.50     181  \n",
            "3     1980-11-25 00:00:00  182.88     181  \n",
            "4     1991-04-08 00:00:00  182.88     176  \n",
            "...                   ...     ...     ...  \n",
            "4871  1984-05-22 00:00:00  190.50     179  \n",
            "4872  1989-01-01 00:00:00  190.50     172  \n",
            "4873  1986-12-18 00:00:00  182.88     176  \n",
            "4874  1981-10-06 00:00:00  185.42     172  \n",
            "4875  1982-06-05 00:00:00  180.34     176  \n",
            "\n",
            "[4876 rows x 7 columns]\n"
          ]
        }
      ],
      "source": [
        "selected_players = pd.read_sql_query(\"SELECT * FROM Player WHERE height >= 180 AND weight >= 170 \", connection)\n",
        "print(selected_players)\n",
        "\n",
        "\n"
      ]
    },
    {
      "cell_type": "code",
      "execution_count": 5,
      "metadata": {
        "id": "x4KMgYND2nOO"
      },
      "outputs": [],
      "source": [
        "connection.close()"
      ]
    }
  ],
  "metadata": {
    "colab": {
      "provenance": []
    },
    "kernelspec": {
      "display_name": "Python 3",
      "name": "python3"
    },
    "language_info": {
      "codemirror_mode": {
        "name": "ipython",
        "version": 3
      },
      "file_extension": ".py",
      "mimetype": "text/x-python",
      "name": "python",
      "nbconvert_exporter": "python",
      "pygments_lexer": "ipython3",
      "version": "3.8.15"
    }
  },
  "nbformat": 4,
  "nbformat_minor": 0
}
