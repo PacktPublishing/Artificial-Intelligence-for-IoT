{
  "nbformat": 4,
  "nbformat_minor": 0,
  "metadata": {
    "colab": {
      "provenance": []
    },
    "kernelspec": {
      "name": "python3",
      "display_name": "Python 3"
    },
    "language_info": {
      "name": "python"
    }
  },
  "cells": [
    {
      "cell_type": "code",
      "execution_count": 1,
      "metadata": {
        "id": "D441nsSjN2ZD"
      },
      "outputs": [],
      "source": [
        "from openpyxl import Workbook\n",
        "wb = Workbook()\n",
        "\n",
        "ws = wb.active\n",
        "\n",
        "ws.title = \"Hands-on AI for IoT\"\n",
        "ws.append()\n",
        "ws['A10'] = 27\n",
        "\n",
        "# Rows can also be appended\n",
        "\n",
        "\n",
        "# Python types will automatically be converted\n",
        "import datetime\n",
        "ws['A2'] = datetime.datetime.now()\n",
        "\n",
        "# Save the file\n",
        "wb.save(\"sample.xlsx\")"
      ]
    },
    {
      "cell_type": "code",
      "source": [
        "# Creating and writing into xlsx file\n",
        "from openpyxl import Workbook\n",
        "from openpyxl.utils import get_column_letter\n",
        "wb = Workbook()\n",
        "dest_filename = 'empty_book.xlsx'\n",
        "ws1 = wb.active\n",
        "ws1.title = \"range names\"\n",
        "for row in range(1, 40):\n",
        "  ws1.append(range(0,100,5))\n",
        "ws2 = wb.create_sheet(title=\"Pi\")\n",
        "ws2['F5'] = 2 * 3.14\n",
        "ws2.cell(column=1, row=5, value= 3.14)\n",
        "ws3 = wb.create_sheet(title=\"Data\")\n",
        "for row in range(1, 20):\n",
        "  for col in range(1, 15):\n",
        "    _ = ws3.cell(column=col, row=row, value=\"\\\n",
        "        {0}\".format(get_column_letter(col)))\n",
        "print(ws3['A10'].value)\n",
        "wb.save(filename = dest_filename)\n",
        "\n",
        "# Reading from xlsx file\n",
        "from openpyxl import load_workbook\n",
        "wb = load_workbook(filename = 'empty_book.xlsx')\n",
        "sheet_ranges = wb['range names']\n",
        "print(wb.sheetnames)\n",
        "print(sheet_ranges['D18'].value)\n"
      ],
      "metadata": {
        "colab": {
          "base_uri": "https://localhost:8080/"
        },
        "id": "sHpYe7MdnES9",
        "outputId": "b1b818db-b244-4c5a-ed53-6fb30f7f2128"
      },
      "execution_count": 4,
      "outputs": [
        {
          "output_type": "stream",
          "name": "stdout",
          "text": [
            "        A\n",
            "['range names', 'Pi', 'Data']\n",
            "15\n"
          ]
        }
      ]
    },
    {
      "cell_type": "code",
      "source": [
        "import pandas as pd\n",
        "df = pd.read_excel(\"empty_book.xlsx\", sheet_name=0)\n",
        "df.describe()\n",
        "result = df * 2\n",
        "result.describe()\n",
        "result.to_excel(\"empty_book_modified.xlsx\")\n"
      ],
      "metadata": {
        "id": "eT2dVijhoiWX"
      },
      "execution_count": 6,
      "outputs": []
    },
    {
      "cell_type": "code",
      "source": [],
      "metadata": {
        "id": "HHHfFuJGpes1"
      },
      "execution_count": null,
      "outputs": []
    }
  ]
}