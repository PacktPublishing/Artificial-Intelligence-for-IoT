{
  "nbformat": 4,
  "nbformat_minor": 0,
  "metadata": {
    "colab": {
      "provenance": []
    },
    "kernelspec": {
      "name": "python3",
      "display_name": "Python 3"
    },
    "language_info": {
      "name": "python"
    }
  },
  "cells": [
    {
      "cell_type": "code",
      "source": [
        "!pip install hdfs3"
      ],
      "metadata": {
        "id": "cYgUcvs4d0F8"
      },
      "execution_count": null,
      "outputs": []
    },
    {
      "cell_type": "code",
      "source": [
        "from hdfs3 import HDFileSystem\n",
        "hdfs = HDFileSystem(host = 'localhost', port=8020)\n"
      ],
      "metadata": {
        "id": "WDj_ACondFWw"
      },
      "execution_count": null,
      "outputs": []
    },
    {
      "cell_type": "code",
      "source": [
        "print(hdfs.ls('/tmp'))"
      ],
      "metadata": {
        "id": "wCx2a_oCddjU"
      },
      "execution_count": null,
      "outputs": []
    },
    {
      "cell_type": "code",
      "source": [
        "with hdfs.open('/tmp/file1.txt','wb') as f:\n",
        "f.write(b'You are Awesome!')\n"
      ],
      "metadata": {
        "id": "OGJm-88DdgD4"
      },
      "execution_count": null,
      "outputs": []
    },
    {
      "cell_type": "code",
      "source": [
        "\n",
        "with hdfs.open('/tmp/file1.txt') as f:\n",
        "print(f.read())\n"
      ],
      "metadata": {
        "id": "MLXoiB08dmv-"
      },
      "execution_count": null,
      "outputs": []
    },
    {
      "cell_type": "code",
      "source": [
        "!pip install pyarrow"
      ],
      "metadata": {
        "id": "H65RAw2he932"
      },
      "execution_count": null,
      "outputs": []
    },
    {
      "cell_type": "code",
      "source": [
        "import pyarrow as pa\n",
        "import pyarrow.fs as pafs\n",
        "hdfs = pafs.HadoopFileSystem(host='hostname', port=8020)\n"
      ],
      "metadata": {
        "id": "-W0wP3AMdtjz"
      },
      "execution_count": null,
      "outputs": []
    },
    {
      "cell_type": "code",
      "source": [],
      "metadata": {
        "id": "akB4N3dOzwVR"
      },
      "execution_count": null,
      "outputs": []
    }
  ]
}