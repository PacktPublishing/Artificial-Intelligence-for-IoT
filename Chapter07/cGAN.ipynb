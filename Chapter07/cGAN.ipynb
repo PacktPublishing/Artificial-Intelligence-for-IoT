{
  "cells": [
    {
      "cell_type": "code",
      "execution_count": 1,
      "metadata": {
        "id": "oPcOopd9EFrd",
        "outputId": "932584a5-d516-461c-c22d-e1eb125bc29a",
        "colab": {
          "base_uri": "https://localhost:8080/"
        }
      },
      "outputs": [
        {
          "output_type": "stream",
          "name": "stdout",
          "text": [
            "  Preparing metadata (setup.py) ... \u001b[?25l\u001b[?25hdone\n",
            "  Building wheel for tensorflow-docs (setup.py) ... \u001b[?25l\u001b[?25hdone\n"
          ]
        }
      ],
      "source": [
        "!pip install -q git+https://github.com/tensorflow/docs"
      ]
    },
    {
      "cell_type": "code",
      "source": [
        "!pip install --upgrade keras"
      ],
      "metadata": {
        "id": "4m_vZFMTEVnR",
        "outputId": "402b7bb6-37cd-4e17-9df0-0bf656747704",
        "colab": {
          "base_uri": "https://localhost:8080/"
        }
      },
      "execution_count": 2,
      "outputs": [
        {
          "output_type": "stream",
          "name": "stdout",
          "text": [
            "Requirement already satisfied: keras in /usr/local/lib/python3.10/dist-packages (2.15.0)\n",
            "Collecting keras\n",
            "  Downloading keras-3.3.3-py3-none-any.whl (1.1 MB)\n",
            "\u001b[2K     \u001b[90m━━━━━━━━━━━━━━━━━━━━━━━━━━━━━━━━━━━━━━━━\u001b[0m \u001b[32m1.1/1.1 MB\u001b[0m \u001b[31m19.3 MB/s\u001b[0m eta \u001b[36m0:00:00\u001b[0m\n",
            "\u001b[?25hRequirement already satisfied: absl-py in /usr/local/lib/python3.10/dist-packages (from keras) (1.4.0)\n",
            "Requirement already satisfied: numpy in /usr/local/lib/python3.10/dist-packages (from keras) (1.25.2)\n",
            "Requirement already satisfied: rich in /usr/local/lib/python3.10/dist-packages (from keras) (13.7.1)\n",
            "Collecting namex (from keras)\n",
            "  Downloading namex-0.0.8-py3-none-any.whl (5.8 kB)\n",
            "Requirement already satisfied: h5py in /usr/local/lib/python3.10/dist-packages (from keras) (3.9.0)\n",
            "Collecting optree (from keras)\n",
            "  Downloading optree-0.11.0-cp310-cp310-manylinux_2_17_x86_64.manylinux2014_x86_64.whl (311 kB)\n",
            "\u001b[2K     \u001b[90m━━━━━━━━━━━━━━━━━━━━━━━━━━━━━━━━━━━━━━━━\u001b[0m \u001b[32m311.2/311.2 kB\u001b[0m \u001b[31m38.0 MB/s\u001b[0m eta \u001b[36m0:00:00\u001b[0m\n",
            "\u001b[?25hRequirement already satisfied: ml-dtypes in /usr/local/lib/python3.10/dist-packages (from keras) (0.2.0)\n",
            "Requirement already satisfied: typing-extensions>=4.0.0 in /usr/local/lib/python3.10/dist-packages (from optree->keras) (4.11.0)\n",
            "Requirement already satisfied: markdown-it-py>=2.2.0 in /usr/local/lib/python3.10/dist-packages (from rich->keras) (3.0.0)\n",
            "Requirement already satisfied: pygments<3.0.0,>=2.13.0 in /usr/local/lib/python3.10/dist-packages (from rich->keras) (2.16.1)\n",
            "Requirement already satisfied: mdurl~=0.1 in /usr/local/lib/python3.10/dist-packages (from markdown-it-py>=2.2.0->rich->keras) (0.1.2)\n",
            "Installing collected packages: namex, optree, keras\n",
            "  Attempting uninstall: keras\n",
            "    Found existing installation: keras 2.15.0\n",
            "    Uninstalling keras-2.15.0:\n",
            "      Successfully uninstalled keras-2.15.0\n",
            "\u001b[31mERROR: pip's dependency resolver does not currently take into account all the packages that are installed. This behaviour is the source of the following dependency conflicts.\n",
            "tensorflow 2.15.0 requires keras<2.16,>=2.15.0, but you have keras 3.3.3 which is incompatible.\u001b[0m\u001b[31m\n",
            "\u001b[0mSuccessfully installed keras-3.3.3 namex-0.0.8 optree-0.11.0\n"
          ]
        }
      ]
    },
    {
      "cell_type": "code",
      "source": [
        "import keras\n",
        "keras.__version__"
      ],
      "metadata": {
        "id": "2q7QouD-ELGg",
        "outputId": "c95c1047-ccaf-4573-d5f2-9d414d31fe2a",
        "colab": {
          "base_uri": "https://localhost:8080/",
          "height": 35
        }
      },
      "execution_count": 3,
      "outputs": [
        {
          "output_type": "execute_result",
          "data": {
            "text/plain": [
              "'3.3.3'"
            ],
            "application/vnd.google.colaboratory.intrinsic+json": {
              "type": "string"
            }
          },
          "metadata": {},
          "execution_count": 3
        }
      ]
    },
    {
      "cell_type": "code",
      "execution_count": 4,
      "metadata": {
        "id": "jpk9rOPiEFre"
      },
      "outputs": [],
      "source": [
        "import keras\n",
        "from keras import Sequential, Input, Model\n",
        "from keras import ops\n",
        "from keras.layers import InputLayer, Conv2D, Dense, Flatten, Reshape, Conv2DTranspose, LeakyReLU, GlobalMaxPooling2D\n",
        "from keras.optimizers import Adam\n",
        "from keras.losses import BinaryCrossentropy\n",
        "from keras.utils import plot_model\n",
        "from tensorflow_docs.vis import embed\n",
        "import tensorflow as tf\n",
        "import numpy as np\n",
        "import imageio"
      ]
    },
    {
      "cell_type": "code",
      "execution_count": 5,
      "metadata": {
        "id": "tC7deVJUEFre"
      },
      "outputs": [],
      "source": [
        "batch_size = 64\n",
        "num_channels = 1\n",
        "num_classes = 10\n",
        "image_size = 28\n",
        "latent_dim = 128"
      ]
    },
    {
      "cell_type": "code",
      "execution_count": 7,
      "metadata": {
        "id": "bfwIqpLwEFrf",
        "outputId": "cf204c29-79d4-4f23-d929-248a9a790bac",
        "colab": {
          "base_uri": "https://localhost:8080/"
        }
      },
      "outputs": [
        {
          "output_type": "stream",
          "name": "stdout",
          "text": [
            "138 11\n"
          ]
        }
      ],
      "source": [
        "generator_in_channels = latent_dim + num_classes\n",
        "discriminator_in_channels = num_channels + num_classes\n",
        "print(generator_in_channels, discriminator_in_channels)"
      ]
    },
    {
      "cell_type": "code",
      "execution_count": 6,
      "metadata": {
        "id": "-pm6HDBjEFre",
        "outputId": "39058d13-fb4e-4eac-8299-3a7993d98371",
        "colab": {
          "base_uri": "https://localhost:8080/"
        }
      },
      "outputs": [
        {
          "output_type": "stream",
          "name": "stdout",
          "text": [
            "Downloading data from https://storage.googleapis.com/tensorflow/tf-keras-datasets/mnist.npz\n",
            "\u001b[1m11490434/11490434\u001b[0m \u001b[32m━━━━━━━━━━━━━━━━━━━━\u001b[0m\u001b[37m\u001b[0m \u001b[1m2s\u001b[0m 0us/step\n",
            "Shape of training images: (70000, 28, 28, 1)\n",
            "Shape of training labels: (70000, 10)\n"
          ]
        }
      ],
      "source": [
        "(x_train, y_train), (x_test, y_test) = keras.datasets.mnist.load_data()\n",
        "all_digits = np.concatenate([x_train, x_test])\n",
        "all_labels = np.concatenate([y_train, y_test])\n",
        "\n",
        "# Scale the pixel values to [0, 1] range, add a channel dimension to\n",
        "# the images, and one-hot encode the labels.\n",
        "all_digits = all_digits.astype(\"float32\") / 255.0\n",
        "all_digits = np.reshape(all_digits, (-1, 28, 28, 1))\n",
        "all_labels = keras.utils.to_categorical(all_labels, 10)\n",
        "\n",
        "# Create tf.data.Dataset.\n",
        "dataset = tf.data.Dataset.from_tensor_slices((all_digits, all_labels))\n",
        "dataset = dataset.shuffle(buffer_size=1024).batch(batch_size)\n",
        "\n",
        "print(f\"Shape of training images: {all_digits.shape}\")\n",
        "print(f\"Shape of training labels: {all_labels.shape}\")"
      ]
    },
    {
      "cell_type": "code",
      "execution_count": 8,
      "metadata": {
        "id": "oX53Y_mJEFrf"
      },
      "outputs": [],
      "source": [
        "\n",
        "discriminator = Sequential(\n",
        "    [\n",
        "        InputLayer((28, 28, discriminator_in_channels)),\n",
        "        Conv2D(64, (3, 3), strides=(2, 2), padding=\"same\"),\n",
        "        LeakyReLU(negative_slope=0.2),\n",
        "        Conv2D(128, (3, 3), strides=(2, 2), padding=\"same\"),\n",
        "        LeakyReLU(negative_slope=0.2),\n",
        "        GlobalMaxPooling2D(),\n",
        "        Dense(1),\n",
        "    ],\n",
        "    name=\"discriminator\",\n",
        ")\n",
        "\n",
        "\n",
        "generator = Sequential(\n",
        "    [\n",
        "        InputLayer((generator_in_channels,)),\n",
        "        Dense(7 * 7 * generator_in_channels),\n",
        "        LeakyReLU(negative_slope=0.2),\n",
        "        Reshape((7, 7, generator_in_channels)),\n",
        "        Conv2DTranspose(128, (4, 4), strides=(2, 2), padding=\"same\"),\n",
        "        LeakyReLU(negative_slope=0.2),\n",
        "        Conv2DTranspose(128, (4, 4), strides=(2, 2), padding=\"same\"),\n",
        "        LeakyReLU(negative_slope=0.2),\n",
        "        Conv2D(1, (7, 7), padding=\"same\", activation=\"sigmoid\"),\n",
        "    ],\n",
        "    name=\"generator\",\n",
        ")"
      ]
    },
    {
      "cell_type": "code",
      "execution_count": 9,
      "metadata": {
        "id": "VEeML_GiEFrf"
      },
      "outputs": [],
      "source": [
        "\n",
        "class cGAN(keras.Model):\n",
        "    def __init__(self, discriminator, generator, latent_dim):\n",
        "        super().__init__()\n",
        "        self.discriminator = discriminator\n",
        "        self.generator = generator\n",
        "        self.latent_dim = latent_dim\n",
        "        self.seed_generator = keras.random.SeedGenerator(27)\n",
        "        self.gen_loss_tracker = keras.metrics.Mean(name=\"generator_loss\")\n",
        "        self.disc_loss_tracker = keras.metrics.Mean(name=\"discriminator_loss\")\n",
        "\n",
        "    @property\n",
        "    def metrics(self):\n",
        "        return [self.gen_loss_tracker, self.disc_loss_tracker]\n",
        "\n",
        "    def compile(self, d_optimizer, g_optimizer, loss_fn):\n",
        "        super().compile()\n",
        "        self.d_optimizer = d_optimizer\n",
        "        self.g_optimizer = g_optimizer\n",
        "        self.loss_fn = loss_fn\n",
        "\n",
        "    def train_step(self, data):\n",
        "        # Unpack the data.\n",
        "        real_images, one_hot_labels = data\n",
        "\n",
        "\n",
        "        image_one_hot_labels = one_hot_labels[:, :, None, None]\n",
        "        image_one_hot_labels = ops.repeat(\n",
        "            image_one_hot_labels, repeats=[image_size * image_size]\n",
        "        )\n",
        "        image_one_hot_labels = ops.reshape(\n",
        "            image_one_hot_labels, (-1, image_size, image_size, num_classes)\n",
        "        )\n",
        "\n",
        "\n",
        "        batch_size = ops.shape(real_images)[0]\n",
        "        random_latent_vectors = keras.random.normal(\n",
        "            shape=(batch_size, self.latent_dim), seed=self.seed_generator\n",
        "        )\n",
        "        random_vector_labels = ops.concatenate(\n",
        "            [random_latent_vectors, one_hot_labels], axis=1\n",
        "        )\n",
        "\n",
        "\n",
        "        generated_images = self.generator(random_vector_labels)\n",
        "\n",
        "\n",
        "        fake_image_and_labels = ops.concatenate(\n",
        "            [generated_images, image_one_hot_labels], -1\n",
        "        )\n",
        "        real_image_and_labels = ops.concatenate([real_images, image_one_hot_labels], -1)\n",
        "        combined_images = ops.concatenate(\n",
        "            [fake_image_and_labels, real_image_and_labels], axis=0\n",
        "        )\n",
        "\n",
        "\n",
        "        labels = ops.concatenate(\n",
        "            [ops.ones((batch_size, 1)), ops.zeros((batch_size, 1))], axis=0\n",
        "        )\n",
        "\n",
        "\n",
        "        with tf.GradientTape() as tape:\n",
        "            predictions = self.discriminator(combined_images)\n",
        "            d_loss = self.loss_fn(labels, predictions)\n",
        "        grads = tape.gradient(d_loss, self.discriminator.trainable_weights)\n",
        "        self.d_optimizer.apply_gradients(\n",
        "            zip(grads, self.discriminator.trainable_weights)\n",
        "        )\n",
        "\n",
        "\n",
        "        random_latent_vectors = keras.random.normal(\n",
        "            shape=(batch_size, self.latent_dim), seed=self.seed_generator\n",
        "        )\n",
        "        random_vector_labels = ops.concatenate(\n",
        "            [random_latent_vectors, one_hot_labels], axis=1\n",
        "        )\n",
        "\n",
        "\n",
        "        misleading_labels = ops.zeros((batch_size, 1))\n",
        "\n",
        "\n",
        "        with tf.GradientTape() as tape:\n",
        "            fake_images = self.generator(random_vector_labels)\n",
        "            fake_image_and_labels = ops.concatenate(\n",
        "                [fake_images, image_one_hot_labels], -1\n",
        "            )\n",
        "            predictions = self.discriminator(fake_image_and_labels)\n",
        "            g_loss = self.loss_fn(misleading_labels, predictions)\n",
        "        grads = tape.gradient(g_loss, self.generator.trainable_weights)\n",
        "        self.g_optimizer.apply_gradients(zip(grads, self.generator.trainable_weights))\n",
        "\n",
        "\n",
        "        self.gen_loss_tracker.update_state(g_loss)\n",
        "        self.disc_loss_tracker.update_state(d_loss)\n",
        "        return {\n",
        "            \"g_loss\": self.gen_loss_tracker.result(),\n",
        "            \"d_loss\": self.disc_loss_tracker.result(),\n",
        "        }\n"
      ]
    },
    {
      "cell_type": "code",
      "execution_count": 10,
      "metadata": {
        "id": "Z8qGIZ9fEFrf",
        "outputId": "41228567-e579-4e6d-ef8c-405c9eb7a5ad",
        "colab": {
          "base_uri": "https://localhost:8080/"
        }
      },
      "outputs": [
        {
          "output_type": "stream",
          "name": "stdout",
          "text": [
            "Epoch 1/50\n",
            "\u001b[1m1094/1094\u001b[0m \u001b[32m━━━━━━━━━━━━━━━━━━━━\u001b[0m\u001b[37m\u001b[0m \u001b[1m21s\u001b[0m 10ms/step - d_loss: 0.4298 - g_loss: 1.4889\n",
            "Epoch 2/50\n",
            "\u001b[1m1094/1094\u001b[0m \u001b[32m━━━━━━━━━━━━━━━━━━━━\u001b[0m\u001b[37m\u001b[0m \u001b[1m5s\u001b[0m 5ms/step - d_loss: 0.5229 - g_loss: 1.2095\n",
            "Epoch 3/50\n",
            "\u001b[1m1094/1094\u001b[0m \u001b[32m━━━━━━━━━━━━━━━━━━━━\u001b[0m\u001b[37m\u001b[0m \u001b[1m5s\u001b[0m 5ms/step - d_loss: 0.4065 - g_loss: 1.4938\n",
            "Epoch 4/50\n",
            "\u001b[1m1094/1094\u001b[0m \u001b[32m━━━━━━━━━━━━━━━━━━━━\u001b[0m\u001b[37m\u001b[0m \u001b[1m5s\u001b[0m 5ms/step - d_loss: 0.2413 - g_loss: 2.1932\n",
            "Epoch 5/50\n",
            "\u001b[1m1094/1094\u001b[0m \u001b[32m━━━━━━━━━━━━━━━━━━━━\u001b[0m\u001b[37m\u001b[0m \u001b[1m5s\u001b[0m 5ms/step - d_loss: 0.5999 - g_loss: 1.0437\n",
            "Epoch 6/50\n",
            "\u001b[1m1094/1094\u001b[0m \u001b[32m━━━━━━━━━━━━━━━━━━━━\u001b[0m\u001b[37m\u001b[0m \u001b[1m5s\u001b[0m 5ms/step - d_loss: 0.6497 - g_loss: 0.9271\n",
            "Epoch 7/50\n",
            "\u001b[1m1094/1094\u001b[0m \u001b[32m━━━━━━━━━━━━━━━━━━━━\u001b[0m\u001b[37m\u001b[0m \u001b[1m5s\u001b[0m 5ms/step - d_loss: 0.6644 - g_loss: 0.8373\n",
            "Epoch 8/50\n",
            "\u001b[1m1094/1094\u001b[0m \u001b[32m━━━━━━━━━━━━━━━━━━━━\u001b[0m\u001b[37m\u001b[0m \u001b[1m5s\u001b[0m 5ms/step - d_loss: 0.6662 - g_loss: 0.8154\n",
            "Epoch 9/50\n",
            "\u001b[1m1094/1094\u001b[0m \u001b[32m━━━━━━━━━━━━━━━━━━━━\u001b[0m\u001b[37m\u001b[0m \u001b[1m5s\u001b[0m 5ms/step - d_loss: 0.6704 - g_loss: 0.7955\n",
            "Epoch 10/50\n",
            "\u001b[1m1094/1094\u001b[0m \u001b[32m━━━━━━━━━━━━━━━━━━━━\u001b[0m\u001b[37m\u001b[0m \u001b[1m5s\u001b[0m 5ms/step - d_loss: 0.6722 - g_loss: 0.7829\n",
            "Epoch 11/50\n",
            "\u001b[1m1094/1094\u001b[0m \u001b[32m━━━━━━━━━━━━━━━━━━━━\u001b[0m\u001b[37m\u001b[0m \u001b[1m5s\u001b[0m 5ms/step - d_loss: 0.6762 - g_loss: 0.7787\n",
            "Epoch 12/50\n",
            "\u001b[1m1094/1094\u001b[0m \u001b[32m━━━━━━━━━━━━━━━━━━━━\u001b[0m\u001b[37m\u001b[0m \u001b[1m5s\u001b[0m 5ms/step - d_loss: 0.6759 - g_loss: 0.7737\n",
            "Epoch 13/50\n",
            "\u001b[1m1094/1094\u001b[0m \u001b[32m━━━━━━━━━━━━━━━━━━━━\u001b[0m\u001b[37m\u001b[0m \u001b[1m5s\u001b[0m 5ms/step - d_loss: 0.6723 - g_loss: 0.7629\n",
            "Epoch 14/50\n",
            "\u001b[1m1094/1094\u001b[0m \u001b[32m━━━━━━━━━━━━━━━━━━━━\u001b[0m\u001b[37m\u001b[0m \u001b[1m5s\u001b[0m 5ms/step - d_loss: 0.6750 - g_loss: 0.7750\n",
            "Epoch 15/50\n",
            "\u001b[1m1094/1094\u001b[0m \u001b[32m━━━━━━━━━━━━━━━━━━━━\u001b[0m\u001b[37m\u001b[0m \u001b[1m5s\u001b[0m 5ms/step - d_loss: 0.6714 - g_loss: 0.7713\n",
            "Epoch 16/50\n",
            "\u001b[1m1094/1094\u001b[0m \u001b[32m━━━━━━━━━━━━━━━━━━━━\u001b[0m\u001b[37m\u001b[0m \u001b[1m5s\u001b[0m 5ms/step - d_loss: 0.6668 - g_loss: 0.7805\n",
            "Epoch 17/50\n",
            "\u001b[1m1094/1094\u001b[0m \u001b[32m━━━━━━━━━━━━━━━━━━━━\u001b[0m\u001b[37m\u001b[0m \u001b[1m5s\u001b[0m 5ms/step - d_loss: 0.6638 - g_loss: 0.7821\n",
            "Epoch 18/50\n",
            "\u001b[1m1094/1094\u001b[0m \u001b[32m━━━━━━━━━━━━━━━━━━━━\u001b[0m\u001b[37m\u001b[0m \u001b[1m5s\u001b[0m 5ms/step - d_loss: 0.6524 - g_loss: 0.8030\n",
            "Epoch 19/50\n",
            "\u001b[1m1094/1094\u001b[0m \u001b[32m━━━━━━━━━━━━━━━━━━━━\u001b[0m\u001b[37m\u001b[0m \u001b[1m5s\u001b[0m 5ms/step - d_loss: 0.6489 - g_loss: 0.8028\n",
            "Epoch 20/50\n",
            "\u001b[1m1094/1094\u001b[0m \u001b[32m━━━━━━━━━━━━━━━━━━━━\u001b[0m\u001b[37m\u001b[0m \u001b[1m5s\u001b[0m 5ms/step - d_loss: 0.6496 - g_loss: 0.8152\n",
            "Epoch 21/50\n",
            "\u001b[1m1094/1094\u001b[0m \u001b[32m━━━━━━━━━━━━━━━━━━━━\u001b[0m\u001b[37m\u001b[0m \u001b[1m5s\u001b[0m 5ms/step - d_loss: 0.6405 - g_loss: 0.8236\n",
            "Epoch 22/50\n",
            "\u001b[1m1094/1094\u001b[0m \u001b[32m━━━━━━━━━━━━━━━━━━━━\u001b[0m\u001b[37m\u001b[0m \u001b[1m5s\u001b[0m 5ms/step - d_loss: 0.6381 - g_loss: 0.8243\n",
            "Epoch 23/50\n",
            "\u001b[1m1094/1094\u001b[0m \u001b[32m━━━━━━━━━━━━━━━━━━━━\u001b[0m\u001b[37m\u001b[0m \u001b[1m5s\u001b[0m 5ms/step - d_loss: 0.6390 - g_loss: 0.8132\n",
            "Epoch 24/50\n",
            "\u001b[1m1094/1094\u001b[0m \u001b[32m━━━━━━━━━━━━━━━━━━━━\u001b[0m\u001b[37m\u001b[0m \u001b[1m5s\u001b[0m 5ms/step - d_loss: 0.6450 - g_loss: 0.8044\n",
            "Epoch 25/50\n",
            "\u001b[1m1094/1094\u001b[0m \u001b[32m━━━━━━━━━━━━━━━━━━━━\u001b[0m\u001b[37m\u001b[0m \u001b[1m5s\u001b[0m 5ms/step - d_loss: 0.6508 - g_loss: 0.7996\n",
            "Epoch 26/50\n",
            "\u001b[1m1094/1094\u001b[0m \u001b[32m━━━━━━━━━━━━━━━━━━━━\u001b[0m\u001b[37m\u001b[0m \u001b[1m5s\u001b[0m 5ms/step - d_loss: 0.6551 - g_loss: 0.7899\n",
            "Epoch 27/50\n",
            "\u001b[1m1094/1094\u001b[0m \u001b[32m━━━━━━━━━━━━━━━━━━━━\u001b[0m\u001b[37m\u001b[0m \u001b[1m5s\u001b[0m 5ms/step - d_loss: 0.6592 - g_loss: 0.7862\n",
            "Epoch 28/50\n",
            "\u001b[1m1094/1094\u001b[0m \u001b[32m━━━━━━━━━━━━━━━━━━━━\u001b[0m\u001b[37m\u001b[0m \u001b[1m5s\u001b[0m 5ms/step - d_loss: 0.6623 - g_loss: 0.7828\n",
            "Epoch 29/50\n",
            "\u001b[1m1094/1094\u001b[0m \u001b[32m━━━━━━━━━━━━━━━━━━━━\u001b[0m\u001b[37m\u001b[0m \u001b[1m5s\u001b[0m 5ms/step - d_loss: 0.6631 - g_loss: 0.7757\n",
            "Epoch 30/50\n",
            "\u001b[1m1094/1094\u001b[0m \u001b[32m━━━━━━━━━━━━━━━━━━━━\u001b[0m\u001b[37m\u001b[0m \u001b[1m5s\u001b[0m 5ms/step - d_loss: 0.6664 - g_loss: 0.7710\n",
            "Epoch 31/50\n",
            "\u001b[1m1094/1094\u001b[0m \u001b[32m━━━━━━━━━━━━━━━━━━━━\u001b[0m\u001b[37m\u001b[0m \u001b[1m5s\u001b[0m 5ms/step - d_loss: 0.6673 - g_loss: 0.7706\n",
            "Epoch 32/50\n",
            "\u001b[1m1094/1094\u001b[0m \u001b[32m━━━━━━━━━━━━━━━━━━━━\u001b[0m\u001b[37m\u001b[0m \u001b[1m5s\u001b[0m 5ms/step - d_loss: 0.6694 - g_loss: 0.7678\n",
            "Epoch 33/50\n",
            "\u001b[1m1094/1094\u001b[0m \u001b[32m━━━━━━━━━━━━━━━━━━━━\u001b[0m\u001b[37m\u001b[0m \u001b[1m5s\u001b[0m 5ms/step - d_loss: 0.6697 - g_loss: 0.7666\n",
            "Epoch 34/50\n",
            "\u001b[1m1094/1094\u001b[0m \u001b[32m━━━━━━━━━━━━━━━━━━━━\u001b[0m\u001b[37m\u001b[0m \u001b[1m5s\u001b[0m 5ms/step - d_loss: 0.6698 - g_loss: 0.7634\n",
            "Epoch 35/50\n",
            "\u001b[1m1094/1094\u001b[0m \u001b[32m━━━━━━━━━━━━━━━━━━━━\u001b[0m\u001b[37m\u001b[0m \u001b[1m5s\u001b[0m 5ms/step - d_loss: 0.6716 - g_loss: 0.7617\n",
            "Epoch 36/50\n",
            "\u001b[1m1094/1094\u001b[0m \u001b[32m━━━━━━━━━━━━━━━━━━━━\u001b[0m\u001b[37m\u001b[0m \u001b[1m5s\u001b[0m 5ms/step - d_loss: 0.6715 - g_loss: 0.7618\n",
            "Epoch 37/50\n",
            "\u001b[1m1094/1094\u001b[0m \u001b[32m━━━━━━━━━━━━━━━━━━━━\u001b[0m\u001b[37m\u001b[0m \u001b[1m5s\u001b[0m 5ms/step - d_loss: 0.6715 - g_loss: 0.7617\n",
            "Epoch 38/50\n",
            "\u001b[1m1094/1094\u001b[0m \u001b[32m━━━━━━━━━━━━━━━━━━━━\u001b[0m\u001b[37m\u001b[0m \u001b[1m5s\u001b[0m 5ms/step - d_loss: 0.6740 - g_loss: 0.7588\n",
            "Epoch 39/50\n",
            "\u001b[1m1094/1094\u001b[0m \u001b[32m━━━━━━━━━━━━━━━━━━━━\u001b[0m\u001b[37m\u001b[0m \u001b[1m5s\u001b[0m 5ms/step - d_loss: 0.6729 - g_loss: 0.7566\n",
            "Epoch 40/50\n",
            "\u001b[1m1094/1094\u001b[0m \u001b[32m━━━━━━━━━━━━━━━━━━━━\u001b[0m\u001b[37m\u001b[0m \u001b[1m5s\u001b[0m 5ms/step - d_loss: 0.6729 - g_loss: 0.7586\n",
            "Epoch 41/50\n",
            "\u001b[1m1094/1094\u001b[0m \u001b[32m━━━━━━━━━━━━━━━━━━━━\u001b[0m\u001b[37m\u001b[0m \u001b[1m5s\u001b[0m 5ms/step - d_loss: 0.6749 - g_loss: 0.7528\n",
            "Epoch 42/50\n",
            "\u001b[1m1094/1094\u001b[0m \u001b[32m━━━━━━━━━━━━━━━━━━━━\u001b[0m\u001b[37m\u001b[0m \u001b[1m5s\u001b[0m 5ms/step - d_loss: 0.6760 - g_loss: 0.7499\n",
            "Epoch 43/50\n",
            "\u001b[1m1094/1094\u001b[0m \u001b[32m━━━━━━━━━━━━━━━━━━━━\u001b[0m\u001b[37m\u001b[0m \u001b[1m5s\u001b[0m 5ms/step - d_loss: 0.6752 - g_loss: 0.7525\n",
            "Epoch 44/50\n",
            "\u001b[1m1094/1094\u001b[0m \u001b[32m━━━━━━━━━━━━━━━━━━━━\u001b[0m\u001b[37m\u001b[0m \u001b[1m5s\u001b[0m 5ms/step - d_loss: 0.6764 - g_loss: 0.7510\n",
            "Epoch 45/50\n",
            "\u001b[1m1094/1094\u001b[0m \u001b[32m━━━━━━━━━━━━━━━━━━━━\u001b[0m\u001b[37m\u001b[0m \u001b[1m5s\u001b[0m 5ms/step - d_loss: 0.6737 - g_loss: 0.7545\n",
            "Epoch 46/50\n",
            "\u001b[1m1094/1094\u001b[0m \u001b[32m━━━━━━━━━━━━━━━━━━━━\u001b[0m\u001b[37m\u001b[0m \u001b[1m5s\u001b[0m 5ms/step - d_loss: 0.6753 - g_loss: 0.7522\n",
            "Epoch 47/50\n",
            "\u001b[1m1094/1094\u001b[0m \u001b[32m━━━━━━━━━━━━━━━━━━━━\u001b[0m\u001b[37m\u001b[0m \u001b[1m5s\u001b[0m 5ms/step - d_loss: 0.6754 - g_loss: 0.7515\n",
            "Epoch 48/50\n",
            "\u001b[1m1094/1094\u001b[0m \u001b[32m━━━━━━━━━━━━━━━━━━━━\u001b[0m\u001b[37m\u001b[0m \u001b[1m5s\u001b[0m 5ms/step - d_loss: 0.6759 - g_loss: 0.7550\n",
            "Epoch 49/50\n",
            "\u001b[1m1094/1094\u001b[0m \u001b[32m━━━━━━━━━━━━━━━━━━━━\u001b[0m\u001b[37m\u001b[0m \u001b[1m5s\u001b[0m 5ms/step - d_loss: 0.6760 - g_loss: 0.7479\n",
            "Epoch 50/50\n",
            "\u001b[1m1094/1094\u001b[0m \u001b[32m━━━━━━━━━━━━━━━━━━━━\u001b[0m\u001b[37m\u001b[0m \u001b[1m5s\u001b[0m 5ms/step - d_loss: 0.6760 - g_loss: 0.7462\n"
          ]
        },
        {
          "output_type": "execute_result",
          "data": {
            "text/plain": [
              "<keras.src.callbacks.history.History at 0x7af293899810>"
            ]
          },
          "metadata": {},
          "execution_count": 10
        }
      ],
      "source": [
        "cond_gan = cGAN(\n",
        "    discriminator=discriminator, generator=generator, latent_dim=latent_dim\n",
        ")\n",
        "cond_gan.compile(\n",
        "    d_optimizer=Adam(learning_rate=0.0003),\n",
        "    g_optimizer=Adam(learning_rate=0.0003),\n",
        "    loss_fn=BinaryCrossentropy(from_logits=True),\n",
        ")\n",
        "\n",
        "cond_gan.fit(dataset, epochs=50)"
      ]
    },
    {
      "cell_type": "code",
      "execution_count": 11,
      "metadata": {
        "id": "CA3jUPRnEFrf",
        "colab": {
          "base_uri": "https://localhost:8080/"
        },
        "outputId": "525ffb85-a22f-4d2e-c87f-8421830249c1"
      },
      "outputs": [
        {
          "output_type": "stream",
          "name": "stdout",
          "text": [
            "\u001b[1m1/1\u001b[0m \u001b[32m━━━━━━━━━━━━━━━━━━━━\u001b[0m\u001b[37m\u001b[0m \u001b[1m1s\u001b[0m 532ms/step\n"
          ]
        }
      ],
      "source": [
        "# We first extract the trained generator from our Conditional GAN.\n",
        "trained_gen = cond_gan.generator\n",
        "\n",
        "# Choose the number of intermediate images that would be generated in\n",
        "# between the interpolation + 2 (start and last images).\n",
        "num_interpolation = 9\n",
        "# Sample noise for the interpolation.\n",
        "interpolation_noise = keras.random.normal(shape=(1, latent_dim))\n",
        "interpolation_noise = ops.repeat(interpolation_noise, repeats=num_interpolation)\n",
        "interpolation_noise = ops.reshape(interpolation_noise, (num_interpolation, latent_dim))\n",
        "\n",
        "\n",
        "def interpolate_class(first_number, second_number):\n",
        "    # Convert the start and end labels to one-hot encoded vectors.\n",
        "    first_label = keras.utils.to_categorical([first_number], num_classes)\n",
        "    second_label = keras.utils.to_categorical([second_number], num_classes)\n",
        "    first_label = ops.cast(first_label, \"float32\")\n",
        "    second_label = ops.cast(second_label, \"float32\")\n",
        "\n",
        "    # Calculate the interpolation vector between the two labels.\n",
        "    percent_second_label = ops.linspace(0, 1, num_interpolation)[:, None]\n",
        "    percent_second_label = ops.cast(percent_second_label, \"float32\")\n",
        "    interpolation_labels = (\n",
        "        first_label * (1 - percent_second_label) + second_label * percent_second_label\n",
        "    )\n",
        "\n",
        "    # Combine the noise and the labels and run inference with the generator.\n",
        "    noise_and_labels = ops.concatenate([interpolation_noise, interpolation_labels], 1)\n",
        "    fake = trained_gen.predict(noise_and_labels)\n",
        "    return fake\n",
        "\n",
        "\n",
        "start_class = 3\n",
        "end_class = 7\n",
        "fake_images = interpolate_class(start_class, end_class)"
      ]
    },
    {
      "cell_type": "code",
      "execution_count": 12,
      "metadata": {
        "id": "0Aa-W4-9EFrg",
        "colab": {
          "base_uri": "https://localhost:8080/",
          "height": 117
        },
        "outputId": "5a34c113-defe-4800-ee76-426c786e2f73"
      },
      "outputs": [
        {
          "output_type": "execute_result",
          "data": {
            "text/plain": [
              "<IPython.core.display.HTML object>"
            ],
            "text/html": [
              "<img src=\"data:image/gif;base64,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\"/>"
            ]
          },
          "metadata": {},
          "execution_count": 12
        }
      ],
      "source": [
        "fake_images *= 255.0\n",
        "converted_images = fake_images.astype(np.uint8)\n",
        "converted_images = ops.image.resize(converted_images, (96, 96)).numpy().astype(np.uint8)\n",
        "imageio.mimsave(\"animation.gif\", converted_images[:, :, :, 0], fps=1)\n",
        "embed.embed_file(\"animation.gif\")"
      ]
    }
  ],
  "metadata": {
    "accelerator": "GPU",
    "colab": {
      "provenance": [],
      "toc_visible": true,
      "machine_shape": "hm",
      "gpuType": "A100"
    },
    "kernelspec": {
      "display_name": "Python 3",
      "name": "python3"
    },
    "language_info": {
      "codemirror_mode": {
        "name": "ipython",
        "version": 3
      },
      "file_extension": ".py",
      "mimetype": "text/x-python",
      "name": "python",
      "nbconvert_exporter": "python",
      "pygments_lexer": "ipython3",
      "version": "3.7.0"
    }
  },
  "nbformat": 4,
  "nbformat_minor": 0
}