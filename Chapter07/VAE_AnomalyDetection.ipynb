{
  "nbformat": 4,
  "nbformat_minor": 0,
  "metadata": {
    "colab": {
      "provenance": [],
      "machine_shape": "hm",
      "gpuType": "A100"
    },
    "kernelspec": {
      "name": "python3",
      "display_name": "Python 3"
    },
    "language_info": {
      "name": "python"
    },
    "accelerator": "GPU"
  },
  "cells": [
    {
      "cell_type": "code",
      "execution_count": null,
      "metadata": {
        "id": "cBFu3kh_ZARL"
      },
      "outputs": [],
      "source": [
        "import tensorflow as tf\n",
        "from tensorflow import keras\n",
        "from tensorflow.keras import layers\n",
        "import tensorflow_probability as tfp\n",
        "import numpy as np\n",
        "import matplotlib.pyplot as plt\n",
        "from sklearn.metrics import accuracy_score, precision_score, recall_score, f1_score\n",
        "\n",
        "# Enable memory growth for GPUs to avoid out-of-memory errors\n",
        "physical_devices = tf.config.list_physical_devices('GPU')\n",
        "for device in physical_devices:\n",
        "    tf.config.experimental.set_memory_growth(device, True)\n",
        "\n",
        "    tf.config.experimental.set_memory_growth(device, True)\n"
      ]
    },
    {
      "cell_type": "code",
      "source": [
        "# Load the MNIST dataset\n",
        "(x_train_, y_train_), (x_test_, y_test_) = keras.datasets.mnist.load_data()\n",
        "\n",
        "# Filter out digit '6' from the training and test sets\n",
        "train_mask = y_train_ != 6\n",
        "test_mask = y_test_ != 6\n",
        "\n",
        "x_train, y_train = x_train_[train_mask], y_train_[train_mask]\n",
        "x_test, y_test = x_test_[test_mask], y_test_[test_mask]\n",
        "\n",
        "# Normalize the data to the range [0, 1]\n",
        "x_train = x_train.astype('float32') / 255.0\n",
        "x_test = x_test.astype('float32') / 255.0\n",
        "\n",
        "# Flatten the data\n",
        "x_train = x_train.reshape(-1, 28 * 28)\n",
        "x_test = x_test.reshape(-1, 28 * 28)\n",
        "\n"
      ],
      "metadata": {
        "colab": {
          "base_uri": "https://localhost:8080/"
        },
        "id": "B-WH6Pc3Qezp",
        "outputId": "df7e1349-ec67-4219-b2cf-6146ad1814f0"
      },
      "execution_count": null,
      "outputs": [
        {
          "output_type": "stream",
          "name": "stdout",
          "text": [
            "Downloading data from https://storage.googleapis.com/tensorflow/tf-keras-datasets/mnist.npz\n",
            "11490434/11490434 [==============================] - 1s 0us/step\n"
          ]
        }
      ]
    },
    {
      "cell_type": "code",
      "source": [
        "input_shape = x_train.shape[1]\n",
        "latent_dim = 2  # Dimension of the latent space\n",
        "\n",
        "# Encoder\n",
        "encoder_inputs = keras.Input(shape=(input_shape,))\n",
        "x = layers.Dense(512, activation='relu')(encoder_inputs)\n",
        "x = layers.Dense(256, activation='relu')(x)\n",
        "x = layers.Dense(128, activation='relu')(x)\n",
        "z_mean = layers.Dense(latent_dim, name='z_mean')(x)\n",
        "z_log_var = layers.Dense(latent_dim, name='z_log_var')(x)\n",
        "\n",
        "# Sampling function\n",
        "def sampling(z_mean, z_log_var):\n",
        "    epsilon = tf.random.normal(shape=tf.shape(z_mean))\n",
        "    return z_mean + tf.exp(0.5 * z_log_var) * epsilon\n",
        "\n",
        "z = layers.Lambda(lambda x: sampling(x[0], x[1]))([z_mean, z_log_var])\n",
        "\n",
        "encoder = keras.Model(encoder_inputs, [z_mean, z_log_var, z], name='encoder')\n",
        "\n",
        "# Decoder\n",
        "latent_inputs = keras.Input(shape=(latent_dim,))\n",
        "x = layers.Dense(128, activation='relu')(latent_inputs)\n",
        "x = layers.Dense(256, activation='relu')(x)\n",
        "x = layers.Dense(512, activation='relu')(x)\n",
        "decoder_outputs = layers.Dense(input_shape, activation='sigmoid')(x)\n",
        "\n",
        "decoder = keras.Model(latent_inputs, decoder_outputs, name='decoder')\n",
        "\n",
        "# VAE Model\n",
        "outputs = decoder(encoder(encoder_inputs)[2])\n",
        "vae = keras.Model(encoder_inputs, outputs, name='vae')\n",
        "\n",
        "# Loss Function\n",
        "reconstruction_loss = tf.reduce_mean(tf.keras.losses.binary_crossentropy(encoder_inputs, outputs))\n",
        "reconstruction_loss *= input_shape\n",
        "\n",
        "kl_loss = 1 + z_log_var - tf.square(z_mean) - tf.exp(z_log_var)\n",
        "kl_loss = tf.reduce_mean(kl_loss)\n",
        "kl_loss *= -0.5\n",
        "\n",
        "vae_loss = reconstruction_loss + kl_loss\n",
        "vae.add_loss(vae_loss)\n",
        "vae.compile(optimizer=keras.optimizers.Adam())\n",
        "\n"
      ],
      "metadata": {
        "id": "UkEFkQEAQjGv"
      },
      "execution_count": null,
      "outputs": []
    },
    {
      "cell_type": "code",
      "source": [
        "vae.fit(x_train, x_train, epochs=50, batch_size=128, validation_data=(x_test, x_test))\n"
      ],
      "metadata": {
        "colab": {
          "base_uri": "https://localhost:8080/"
        },
        "id": "q4serr_OQojn",
        "outputId": "ce5213cd-7982-4184-dd22-06fbe8810175"
      },
      "execution_count": null,
      "outputs": [
        {
          "output_type": "stream",
          "name": "stdout",
          "text": [
            "Epoch 1/50\n",
            "423/423 [==============================] - 7s 6ms/step - loss: 182.7650 - val_loss: 157.8427\n",
            "Epoch 2/50\n",
            "423/423 [==============================] - 2s 5ms/step - loss: 154.6693 - val_loss: 150.9836\n",
            "Epoch 3/50\n",
            "423/423 [==============================] - 2s 5ms/step - loss: 150.0213 - val_loss: 148.1774\n",
            "Epoch 4/50\n",
            "423/423 [==============================] - 2s 5ms/step - loss: 147.3197 - val_loss: 146.7272\n",
            "Epoch 5/50\n",
            "423/423 [==============================] - 2s 5ms/step - loss: 145.4925 - val_loss: 143.9366\n",
            "Epoch 6/50\n",
            "423/423 [==============================] - 2s 5ms/step - loss: 143.6047 - val_loss: 141.8947\n",
            "Epoch 7/50\n",
            "423/423 [==============================] - 2s 5ms/step - loss: 142.4047 - val_loss: 141.3012\n",
            "Epoch 8/50\n",
            "423/423 [==============================] - 2s 5ms/step - loss: 141.4004 - val_loss: 140.2376\n",
            "Epoch 9/50\n",
            "423/423 [==============================] - 2s 5ms/step - loss: 140.5026 - val_loss: 139.6895\n",
            "Epoch 10/50\n",
            "423/423 [==============================] - 2s 5ms/step - loss: 139.4217 - val_loss: 138.8179\n",
            "Epoch 11/50\n",
            "423/423 [==============================] - 2s 5ms/step - loss: 138.7636 - val_loss: 138.3811\n",
            "Epoch 12/50\n",
            "423/423 [==============================] - 2s 5ms/step - loss: 138.4488 - val_loss: 138.1147\n",
            "Epoch 13/50\n",
            "423/423 [==============================] - 2s 5ms/step - loss: 138.8204 - val_loss: 137.4110\n",
            "Epoch 14/50\n",
            "423/423 [==============================] - 2s 5ms/step - loss: 137.2605 - val_loss: 136.7100\n",
            "Epoch 15/50\n",
            "423/423 [==============================] - 2s 5ms/step - loss: 136.9253 - val_loss: 137.4210\n",
            "Epoch 16/50\n",
            "423/423 [==============================] - 2s 5ms/step - loss: 136.9118 - val_loss: 136.1206\n",
            "Epoch 17/50\n",
            "423/423 [==============================] - 2s 5ms/step - loss: 136.1166 - val_loss: 135.7504\n",
            "Epoch 18/50\n",
            "423/423 [==============================] - 2s 5ms/step - loss: 135.5978 - val_loss: 135.8253\n",
            "Epoch 19/50\n",
            "423/423 [==============================] - 2s 5ms/step - loss: 135.6259 - val_loss: 136.4250\n",
            "Epoch 20/50\n",
            "423/423 [==============================] - 2s 5ms/step - loss: 135.4004 - val_loss: 135.0274\n",
            "Epoch 21/50\n",
            "423/423 [==============================] - 2s 5ms/step - loss: 134.6634 - val_loss: 135.2221\n",
            "Epoch 22/50\n",
            "423/423 [==============================] - 2s 5ms/step - loss: 134.2424 - val_loss: 134.4699\n",
            "Epoch 23/50\n",
            "423/423 [==============================] - 2s 5ms/step - loss: 133.9662 - val_loss: 134.1747\n",
            "Epoch 24/50\n",
            "423/423 [==============================] - 2s 5ms/step - loss: 133.9568 - val_loss: 135.4346\n",
            "Epoch 25/50\n",
            "423/423 [==============================] - 2s 5ms/step - loss: 134.2145 - val_loss: 134.2586\n",
            "Epoch 26/50\n",
            "423/423 [==============================] - 2s 5ms/step - loss: 133.5489 - val_loss: 133.2522\n",
            "Epoch 27/50\n",
            "423/423 [==============================] - 2s 5ms/step - loss: 135.2317 - val_loss: 137.2202\n",
            "Epoch 28/50\n",
            "423/423 [==============================] - 2s 5ms/step - loss: 134.1143 - val_loss: 134.0137\n",
            "Epoch 29/50\n",
            "423/423 [==============================] - 2s 5ms/step - loss: 134.5101 - val_loss: 134.4208\n",
            "Epoch 30/50\n",
            "423/423 [==============================] - 2s 5ms/step - loss: 133.7207 - val_loss: 133.4322\n",
            "Epoch 31/50\n",
            "423/423 [==============================] - 2s 5ms/step - loss: 133.4429 - val_loss: 134.4656\n",
            "Epoch 32/50\n",
            "423/423 [==============================] - 2s 5ms/step - loss: 133.6517 - val_loss: 135.4495\n",
            "Epoch 33/50\n",
            "423/423 [==============================] - 2s 5ms/step - loss: 133.2296 - val_loss: 133.7005\n",
            "Epoch 34/50\n",
            "423/423 [==============================] - 2s 5ms/step - loss: 132.9529 - val_loss: 132.8207\n",
            "Epoch 35/50\n",
            "423/423 [==============================] - 2s 5ms/step - loss: 132.2982 - val_loss: 133.7738\n",
            "Epoch 36/50\n",
            "423/423 [==============================] - 2s 5ms/step - loss: 132.6265 - val_loss: 132.8990\n",
            "Epoch 37/50\n",
            "423/423 [==============================] - 2s 5ms/step - loss: 132.7188 - val_loss: 133.4489\n",
            "Epoch 38/50\n",
            "423/423 [==============================] - 2s 5ms/step - loss: 132.8972 - val_loss: 133.8797\n",
            "Epoch 39/50\n",
            "423/423 [==============================] - 2s 5ms/step - loss: 132.4290 - val_loss: 133.1880\n",
            "Epoch 40/50\n",
            "423/423 [==============================] - 2s 5ms/step - loss: 132.6964 - val_loss: 133.1209\n",
            "Epoch 41/50\n",
            "423/423 [==============================] - 2s 5ms/step - loss: 131.8984 - val_loss: 132.3538\n",
            "Epoch 42/50\n",
            "423/423 [==============================] - 2s 5ms/step - loss: 132.0849 - val_loss: 132.7309\n",
            "Epoch 43/50\n",
            "423/423 [==============================] - 2s 5ms/step - loss: 132.9765 - val_loss: 135.0710\n",
            "Epoch 44/50\n",
            "423/423 [==============================] - 2s 5ms/step - loss: 133.1835 - val_loss: 132.9609\n",
            "Epoch 45/50\n",
            "423/423 [==============================] - 2s 5ms/step - loss: 133.3316 - val_loss: 133.7378\n",
            "Epoch 46/50\n",
            "423/423 [==============================] - 2s 5ms/step - loss: 132.5677 - val_loss: 132.4957\n",
            "Epoch 47/50\n",
            "423/423 [==============================] - 2s 5ms/step - loss: 131.9444 - val_loss: 132.9053\n",
            "Epoch 48/50\n",
            "423/423 [==============================] - 2s 5ms/step - loss: 134.1735 - val_loss: 137.2569\n",
            "Epoch 49/50\n",
            "423/423 [==============================] - 2s 5ms/step - loss: 132.2444 - val_loss: 132.1355\n",
            "Epoch 50/50\n",
            "423/423 [==============================] - 2s 5ms/step - loss: 131.8827 - val_loss: 132.4494\n"
          ]
        },
        {
          "output_type": "execute_result",
          "data": {
            "text/plain": [
              "<keras.src.callbacks.History at 0x7edb0bdb7070>"
            ]
          },
          "metadata": {},
          "execution_count": 5
        }
      ]
    },
    {
      "cell_type": "code",
      "source": [
        "# Select some '6' images as anomalies\n",
        "(x_anomaly, _) = x_test_[y_test_ == 6], y_test_[y_test_ == 6]\n",
        "\n",
        "x_anomaly = x_anomaly.astype('float32') / 255.0\n",
        "x_anomaly = x_anomaly.reshape(-1, 28 * 28)\n",
        "\n",
        "# Compute reconstruction loss for normal and anomaly data\n",
        "reconstructed = vae.predict(x_test)\n",
        "reconstruction_loss_normal = np.mean(np.abs(reconstructed - x_test), axis=1)\n",
        "\n",
        "reconstructed_anomaly = vae.predict(x_anomaly)\n",
        "reconstruction_loss_anomaly = np.mean(np.abs(reconstructed_anomaly - x_anomaly), axis=1)\n",
        "\n",
        "# Threshold for anomaly detection\n",
        "threshold = np.percentile(reconstruction_loss_normal, 95)\n",
        "\n",
        "# Predict anomalies\n",
        "y_pred_normal = reconstruction_loss_normal > threshold\n",
        "y_pred_anomaly = reconstruction_loss_anomaly > threshold\n",
        "\n",
        "# Create labels for evaluation\n",
        "y_true_normal = np.zeros_like(y_pred_normal)\n",
        "y_true_anomaly = np.ones_like(y_pred_anomaly)\n",
        "\n",
        "y_true = np.concatenate([y_true_normal, y_true_anomaly])\n",
        "y_pred = np.concatenate([y_pred_normal, y_pred_anomaly])\n",
        "\n",
        "# Calculate scores\n",
        "accuracy = accuracy_score(y_true, y_pred)\n",
        "precision = precision_score(y_true, y_pred)\n",
        "recall = recall_score(y_true, y_pred)\n",
        "f1 = f1_score(y_true, y_pred)\n",
        "\n",
        "print(f'Accuracy: {accuracy}')\n",
        "print(f'Precision: {precision}')\n",
        "print(f'Recall: {recall}')\n",
        "print(f'F1 Score: {f1}')\n"
      ],
      "metadata": {
        "colab": {
          "base_uri": "https://localhost:8080/"
        },
        "id": "y_Co0Rk6Q0lt",
        "outputId": "c82611d5-ad0d-4101-fb13-0638ed8c0949"
      },
      "execution_count": null,
      "outputs": [
        {
          "output_type": "stream",
          "name": "stdout",
          "text": [
            "283/283 [==============================] - 1s 2ms/step\n",
            "30/30 [==============================] - 0s 2ms/step\n",
            "Accuracy: 0.9258\n",
            "Precision: 0.5962566844919787\n",
            "Recall: 0.6983298538622129\n",
            "F1 Score: 0.6432692307692307\n"
          ]
        }
      ]
    },
    {
      "cell_type": "code",
      "source": [
        "# Plot the reconstruction losses\n",
        "plt.hist(reconstruction_loss_normal, bins=50, alpha=0.6, label='Normal')\n",
        "plt.hist(reconstruction_loss_anomaly, bins=50, alpha=0.6, label='Anomaly')\n",
        "plt.axvline(threshold, color='r', linestyle='--', label='Threshold')\n",
        "plt.legend()\n",
        "plt.xlabel('Reconstruction loss')\n",
        "plt.ylabel('Frequency')\n",
        "plt.show()\n"
      ],
      "metadata": {
        "colab": {
          "base_uri": "https://localhost:8080/",
          "height": 449
        },
        "id": "sdblEdZaQ5Wr",
        "outputId": "26ab1dca-8ab4-44bb-c004-6cfa776c6684"
      },
      "execution_count": null,
      "outputs": [
        {
          "output_type": "display_data",
          "data": {
            "text/plain": [
              "<Figure size 640x480 with 1 Axes>"
            ],
            "image/png": "[encoded data removed]"
          },
          "metadata": {}
        }
      ]
    }
  ]
}