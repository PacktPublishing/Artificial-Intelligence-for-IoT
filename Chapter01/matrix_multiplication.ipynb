{
  "nbformat": 4,
  "nbformat_minor": 0,
  "metadata": {
    "colab": {
      "provenance": []
    },
    "kernelspec": {
      "name": "python3",
      "display_name": "Python 3"
    },
    "language_info": {
      "name": "python"
    }
  },
  "cells": [
    {
      "cell_type": "code",
      "source": [
        "import tensorflow as tf\n",
        "import numpy as np"
      ],
      "metadata": {
        "id": "ghRQF1hwfom9"
      },
      "execution_count": 2,
      "outputs": []
    },
    {
      "cell_type": "code",
      "source": [
        "# A random matrix of size [3,5]\n",
        "mat1 = np.random.rand(3,5)\n",
        "# A random matrix of size [5,2]\n",
        "mat2 = np.random.rand(5,2)"
      ],
      "metadata": {
        "id": "JHU-j30Nfqi_"
      },
      "execution_count": 3,
      "outputs": []
    },
    {
      "cell_type": "code",
      "execution_count": 4,
      "metadata": {
        "colab": {
          "base_uri": "https://localhost:8080/"
        },
        "id": "BoAaRDCdd9KB",
        "outputId": "2df20d7e-1158-4442-f881-eaeb30073185"
      },
      "outputs": [
        {
          "output_type": "stream",
          "name": "stdout",
          "text": [
            "[[1.09492074 0.94872392]\n",
            " [1.53373687 1.3560014 ]\n",
            " [1.51698149 1.13907066]]\n"
          ]
        }
      ],
      "source": [
        "# Perform matrix multiplication\n",
        "result = tf.matmul(mat1, mat2)\n",
        "print(result.numpy()) # Eager execution returns the result immediately\n"
      ]
    }
  ]
}