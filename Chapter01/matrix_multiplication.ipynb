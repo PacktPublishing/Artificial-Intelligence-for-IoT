{
  "nbformat": 4,
  "nbformat_minor": 0,
  "metadata": {
    "colab": {
      "provenance": []
    },
    "kernelspec": {
      "name": "python3",
      "display_name": "Python 3"
    },
    "language_info": {
      "name": "python"
    }
  },
  "cells": [
    {
      "cell_type": "code",
      "execution_count": 1,
      "metadata": {
        "colab": {
          "base_uri": "https://localhost:8080/"
        },
        "id": "BoAaRDCdd9KB",
        "outputId": "b4e022e1-9af2-46ca-900b-72226afe92aa"
      },
      "outputs": [
        {
          "output_type": "stream",
          "name": "stdout",
          "text": [
            "[[1.91289354 1.6664743 ]\n",
            " [0.77564901 0.69931557]\n",
            " [2.61312564 2.06596967]]\n"
          ]
        }
      ],
      "source": [
        "import tensorflow as tf\n",
        "import numpy as np\n",
        "\n",
        "# A random matrix of size [3,5]\n",
        "mat1 = np.random.rand(3,5)\n",
        "# A random matrix of size [5,2]\n",
        "mat2 = np.random.rand(5,2)\n",
        "\n",
        "# Perform matrix multiplication\n",
        "result = tf.matmul(mat1, mat2)\n",
        "print(result.numpy()) # Eager execution returns the result immediately\n"
      ]
    }
  ]
}