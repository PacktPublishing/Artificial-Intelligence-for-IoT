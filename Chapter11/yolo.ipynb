{
  "nbformat": 4,
  "nbformat_minor": 0,
  "metadata": {
    "colab": {
      "provenance": []
    },
    "kernelspec": {
      "name": "python3",
      "display_name": "Python 3"
    },
    "language_info": {
      "name": "python"
    }
  },
  "cells": [
    {
      "cell_type": "code",
      "execution_count": null,
      "metadata": {
        "id": "C01BvhlMKqNO"
      },
      "outputs": [],
      "source": [
        "from ultralytics import YOLO\n",
        "import matplotlib.pyplot as plt\n",
        "import cv2"
      ]
    },
    {
      "cell_type": "code",
      "source": [
        "model = YOLO(\"yolov5su.pt\")"
      ],
      "metadata": {
        "id": "eCrrQ05cKu5v"
      },
      "execution_count": null,
      "outputs": []
    },
    {
      "cell_type": "code",
      "source": [
        "image_path = \"sample_image.jpg\"\n",
        "\n",
        "# Perform object detection\n",
        "results = model(image_path)"
      ],
      "metadata": {
        "id": "3zUd_tHwKv9P"
      },
      "execution_count": null,
      "outputs": []
    },
    {
      "cell_type": "code",
      "source": [
        "# Define a function to draw bounding boxes on the image\n",
        "def draw_boxes(image, boxes, class_names):\n",
        "    for i, box in enumerate(boxes.xyxy):  # xyxy format [x1, y1, x2, y2]\n",
        "        x1, y1, x2, y2 = box.tolist()\n",
        "        conf = boxes.conf[i].item()  # Confidence score\n",
        "        cls = int(boxes.cls[i].item())  # Class index\n",
        "        class_name = class_names[cls]\n",
        "        label = f\"{class_name} {conf:.2f}\"\n",
        "\n",
        "        # Draw the bounding box\n",
        "        cv2.rectangle(image, (int(x1), int(y1)), (int(x2), int(y2)), (255, 0, 0), 8)\n",
        "\n",
        "        # Add the label\n",
        "        cv2.putText(image, label, (int(x1), int(y1) - 10), cv2.FONT_HERSHEY_SIMPLEX,\n",
        "                    3, (0, 255, 0), 2, cv2.LINE_AA)\n",
        "    return image"
      ],
      "metadata": {
        "id": "_Ufvl_lyK34u"
      },
      "execution_count": null,
      "outputs": []
    },
    {
      "cell_type": "code",
      "source": [
        "result = results[0]\n",
        "\n",
        "# Access the original image and detected bounding boxes\n",
        "image = result.orig_img.copy()  # Original image\n",
        "boxes = result.boxes  # Bounding box details"
      ],
      "metadata": {
        "id": "xKTsJMJGK4xk"
      },
      "execution_count": null,
      "outputs": []
    },
    {
      "cell_type": "code",
      "source": [
        "# Get class names\n",
        "class_names = result.names\n",
        "\n",
        "# Draw the bounding boxes and labels\n",
        "annotated_image = draw_boxes(image, boxes, class_names)\n",
        "\n",
        "# Convert image color for matplotlib (BGR to RGB)\n",
        "annotated_image = cv2.cvtColor(annotated_image, cv2.COLOR_BGR2RGB)"
      ],
      "metadata": {
        "id": "B93aM9etK_lP"
      },
      "execution_count": null,
      "outputs": []
    },
    {
      "cell_type": "code",
      "source": [
        "# Display the image\n",
        "plt.figure(figsize=(10, 10))\n",
        "plt.imshow(annotated_image)\n",
        "plt.axis(\"off\")\n",
        "plt.show()"
      ],
      "metadata": {
        "id": "EACrMkcoLCTw"
      },
      "execution_count": null,
      "outputs": []
    }
  ]
}