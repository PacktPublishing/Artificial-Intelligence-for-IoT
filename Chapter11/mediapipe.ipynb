{
  "nbformat": 4,
  "nbformat_minor": 0,
  "metadata": {
    "colab": {
      "provenance": []
    },
    "kernelspec": {
      "name": "python3",
      "display_name": "Python 3"
    },
    "language_info": {
      "name": "python"
    }
  },
  "cells": [
    {
      "cell_type": "code",
      "execution_count": null,
      "metadata": {
        "id": "Q_jKb69fLiZt"
      },
      "outputs": [],
      "source": [
        "!pip install mediapipe opencv-python"
      ]
    },
    {
      "cell_type": "code",
      "source": [
        "import cv2\n",
        "import mediapipe as mp\n",
        "import numpy as np\n",
        "\n",
        "\n",
        "# Initialize MediaPipe Pose\n",
        "mp_pose = mp.solutions.pose\n",
        "mp_drawing = mp.solutions.drawing_utils\n",
        "\n",
        "def process_frame(frame, pose):\n",
        "    # Convert the frame to RGB\n",
        "    frame_rgb = cv2.cvtColor(frame, cv2.COLOR_BGR2RGB)\n",
        "\n",
        "    # Process the frame and get the results\n",
        "    results = pose.process(frame_rgb)\n",
        "\n",
        "    # Draw the pose annotations on the frame\n",
        "    mp_drawing.draw_landmarks(\n",
        "        frame,\n",
        "        results.pose_landmarks,\n",
        "        mp_pose.POSE_CONNECTIONS,\n",
        "        landmark_drawing_spec=mp_drawing.DrawingSpec(color=(0,255,0), thickness=2, circle_radius=2),\n",
        "        connection_drawing_spec=mp_drawing.DrawingSpec(color=(255,0,0), thickness=2, circle_radius=2)\n",
        "    )\n",
        "\n",
        "    return frame\n",
        "\n",
        "def process_video(input_path, output_path):\n",
        "    cap = cv2.VideoCapture(input_path)\n",
        "\n",
        "    # Get video properties\n",
        "    width = int(cap.get(cv2.CAP_PROP_FRAME_WIDTH))\n",
        "    height = int(cap.get(cv2.CAP_PROP_FRAME_HEIGHT))\n",
        "    fps = int(cap.get(cv2.CAP_PROP_FPS))\n",
        "\n",
        "    # Create VideoWriter object\n",
        "    fourcc = cv2.VideoWriter_fourcc(*'mp4v')\n",
        "    out = cv2.VideoWriter(output_path, fourcc, fps, (width, height))\n",
        "\n",
        "    with mp_pose.Pose(min_detection_confidence=0.5, min_tracking_confidence=0.5) as pose:\n",
        "        while cap.isOpened():\n",
        "            ret, frame = cap.read()\n",
        "            if not ret:\n",
        "                break\n",
        "\n",
        "            # Process the frame\n",
        "            processed_frame = process_frame(frame, pose)\n",
        "\n",
        "            # Write the frame\n",
        "            out.write(processed_frame)\n",
        "\n",
        "    cap.release()\n",
        "    out.release()\n"
      ],
      "metadata": {
        "id": "ITYnpNYzLo2x"
      },
      "execution_count": null,
      "outputs": []
    },
    {
      "cell_type": "code",
      "source": [
        "input_video_path = \"sample.mp4\"  # Update this path\n",
        "output_video_path = \"/content/output_video.mp4\"\n",
        "\n",
        "# Process the video\n",
        "process_video(input_video_path, output_video_path)"
      ],
      "metadata": {
        "id": "DooN1nF4LtBe"
      },
      "execution_count": null,
      "outputs": []
    }
  ]
}