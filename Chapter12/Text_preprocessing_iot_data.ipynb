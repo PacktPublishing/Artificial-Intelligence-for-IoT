{
  "nbformat": 4,
  "nbformat_minor": 0,
  "metadata": {
    "colab": {
      "provenance": []
    },
    "kernelspec": {
      "name": "python3",
      "display_name": "Python 3"
    },
    "language_info": {
      "name": "python"
    }
  },
  "cells": [
    {
      "cell_type": "code",
      "source": [
        "%%writefile iot_logs.txt\n",
        "2024-12-14 09:30:21 INFO: Thermostat set to 22°C\n",
        "2024-12-14 09:32:10 WARN: Temperature sensor reading delayed\n",
        "Please turn on the living room lights.\n"
      ],
      "metadata": {
        "colab": {
          "base_uri": "https://localhost:8080/"
        },
        "id": "9M7NU6OxSp0r",
        "outputId": "fd97d250-1193-4127-a655-7177aee9d90e"
      },
      "execution_count": 2,
      "outputs": [
        {
          "output_type": "stream",
          "name": "stdout",
          "text": [
            "Writing iot_logs.txt\n"
          ]
        }
      ]
    },
    {
      "cell_type": "code",
      "execution_count": 4,
      "metadata": {
        "colab": {
          "base_uri": "https://localhost:8080/"
        },
        "id": "qyxxIl-hSVDO",
        "outputId": "5159bd0b-db71-4d5c-e477-710c14d93dcc"
      },
      "outputs": [
        {
          "output_type": "stream",
          "name": "stderr",
          "text": [
            "[nltk_data] Downloading package punkt to /root/nltk_data...\n",
            "[nltk_data]   Package punkt is already up-to-date!\n",
            "[nltk_data] Downloading package punkt_tab to /root/nltk_data...\n",
            "[nltk_data]   Unzipping tokenizers/punkt_tab.zip.\n",
            "[nltk_data] Downloading package stopwords to /root/nltk_data...\n",
            "[nltk_data]   Package stopwords is already up-to-date!\n",
            "[nltk_data] Downloading package wordnet to /root/nltk_data...\n",
            "[nltk_data]   Package wordnet is already up-to-date!\n",
            "[nltk_data] Downloading package omw-1.4 to /root/nltk_data...\n",
            "[nltk_data]   Package omw-1.4 is already up-to-date!\n"
          ]
        },
        {
          "output_type": "stream",
          "name": "stdout",
          "text": [
            "Original Data:\n",
            "2024-12-14 09:30:21 INFO: Thermostat set to 22°C\n",
            "2024-12-14 09:32:10 WARN: Temperature sensor reading delayed\n",
            "Please turn on the living room lights.\n",
            "\n",
            "\n",
            "After Normalization and Removing Punctuation:\n",
            "20241214 093021 info thermostat set to 22 degrees\n",
            "20241214 093210 warn temperature sensor reading delayed\n",
            "please turn on the living room lights\n",
            "\n",
            "\n",
            "Tokenized:\n",
            "['20241214', '093021', 'info', 'thermostat', 'set', 'to', '22', 'degrees', '20241214', '093210', 'warn', 'temperature', 'sensor', 'reading', 'delayed', 'please', 'turn', 'on', 'the', 'living', 'room', 'lights']\n",
            "\n",
            "After Stopwords Removal:\n",
            "['20241214', '093021', 'info', 'thermostat', 'set', '22', 'degrees', '20241214', '093210', 'warn', 'temperature', 'sensor', 'reading', 'delayed', 'please', 'turn', 'living', 'room', 'lights']\n",
            "\n",
            "After Lemmatization:\n",
            "['20241214', '093021', 'info', 'thermostat', 'set', '22', 'degree', '20241214', '093210', 'warn', 'temperature', 'sensor', 'reading', 'delayed', 'please', 'turn', 'living', 'room', 'light']\n"
          ]
        }
      ],
      "source": [
        "import nltk\n",
        "import re\n",
        "import string\n",
        "from nltk.corpus import stopwords\n",
        "from nltk.tokenize import word_tokenize\n",
        "from nltk.stem import WordNetLemmatizer\n",
        "\n",
        "\n",
        "nltk.download('punkt')\n",
        "nltk.download('punkt_tab')\n",
        "nltk.download('stopwords')\n",
        "nltk.download('wordnet')\n",
        "nltk.download('omw-1.4')\n",
        "\n",
        "# Initialize Lemmatizer and define stopwords\n",
        "lemmatizer = WordNetLemmatizer()\n",
        "stop_words = set(stopwords.words('english'))\n",
        "\n",
        "# Read the sample logs\n",
        "with open('iot_logs.txt', 'r') as f:\n",
        "    data = f.read()\n",
        "\n",
        "print(\"Original Data:\")\n",
        "print(data)\n",
        "\n",
        "\n",
        "text = data.lower()\n",
        "\n",
        "# Step 2: Removing or handling special characters\n",
        "# In IoT logs, we might want to keep numeric values. Let's remove punctuation but keep numbers and words.\n",
        "text = text.replace('°c', ' degrees')  # Convert °C to 'degrees' for simplicity\n",
        "text = re.sub(f'[{re.escape(string.punctuation)}]', '', text)  # remove punctuation except numbers and letters\n",
        "\n",
        "print(\"\\nAfter Normalization and Removing Punctuation:\")\n",
        "print(text)\n",
        "\n",
        "# Step 3: Tokenization\n",
        "tokens = word_tokenize(text)\n",
        "print(\"\\nTokenized:\")\n",
        "print(tokens)\n",
        "\n",
        "# Step 4: Stopwords Removal\n",
        "filtered_tokens = [w for w in tokens if w not in stop_words]\n",
        "print(\"\\nAfter Stopwords Removal:\")\n",
        "print(filtered_tokens)\n",
        "\n",
        "# Step 5: Lemmatization\n",
        "lemmatized_tokens = [lemmatizer.lemmatize(w) for w in filtered_tokens]\n",
        "print(\"\\nAfter Lemmatization:\")\n",
        "print(lemmatized_tokens)\n"
      ]
    },
    {
      "cell_type": "code",
      "source": [],
      "metadata": {
        "id": "aajMWuiDS-Vg"
      },
      "execution_count": null,
      "outputs": []
    }
  ]
}