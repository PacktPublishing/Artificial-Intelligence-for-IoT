{
  "nbformat": 4,
  "nbformat_minor": 0,
  "metadata": {
    "colab": {
      "provenance": []
    },
    "kernelspec": {
      "name": "python3",
      "display_name": "Python 3"
    },
    "language_info": {
      "name": "python"
    }
  },
  "cells": [
    {
      "cell_type": "code",
      "execution_count": 1,
      "metadata": {
        "colab": {
          "base_uri": "https://localhost:8080/"
        },
        "id": "wTORAThVULUA",
        "outputId": "c80a16e3-bb7f-48eb-c822-429c7dd9847c"
      },
      "outputs": [
        {
          "output_type": "stream",
          "name": "stdout",
          "text": [
            "--2024-01-01 16:05:37--  https://archive.ics.uci.edu/static/public/186/wine+quality.zip\n",
            "Resolving archive.ics.uci.edu (archive.ics.uci.edu)... 128.195.10.252\n",
            "Connecting to archive.ics.uci.edu (archive.ics.uci.edu)|128.195.10.252|:443... connected.\n",
            "HTTP request sent, awaiting response... 200 OK\n",
            "Length: unspecified\n",
            "Saving to: ‘wine+quality.zip’\n",
            "\n",
            "wine+quality.zip        [ <=>                ]  89.21K  --.-KB/s    in 0.1s    \n",
            "\n",
            "2024-01-01 16:05:38 (886 KB/s) - ‘wine+quality.zip’ saved [91353]\n",
            "\n"
          ]
        }
      ],
      "source": [
        "!wget https://archive.ics.uci.edu/static/public/186/wine+quality.zip"
      ]
    },
    {
      "cell_type": "code",
      "source": [
        "!unzip /content/wine+quality.zip -d /content/data"
      ],
      "metadata": {
        "colab": {
          "base_uri": "https://localhost:8080/"
        },
        "id": "NxZoyNHSVRSF",
        "outputId": "21475c22-3aac-4426-d300-34cd148ae85d"
      },
      "execution_count": 2,
      "outputs": [
        {
          "output_type": "stream",
          "name": "stdout",
          "text": [
            "Archive:  /content/wine+quality.zip\n",
            "  inflating: /content/data/winequality-red.csv  \n",
            "  inflating: /content/data/winequality-white.csv  \n",
            "  inflating: /content/data/winequality.names  \n"
          ]
        }
      ]
    },
    {
      "cell_type": "code",
      "execution_count": 12,
      "metadata": {
        "id": "zhB54_FH1bxv"
      },
      "outputs": [],
      "source": [
        "import numpy as np\n",
        "import pandas as pd\n",
        "import matplotlib.pyplot as plt\n",
        "from sklearn.preprocessing import MinMaxScaler, LabelEncoder\n",
        "from sklearn.model_selection import train_test_split\n",
        "from sklearn.metrics import confusion_matrix, accuracy_score\n",
        "from sklearn.tree import DecisionTreeClassifier\n",
        "from sklearn.svm import SVC\n",
        "from sklearn.naive_bayes import GaussianNB\n",
        "from sklearn.ensemble import VotingClassifier\n",
        "\n",
        "import seaborn as sns"
      ]
    },
    {
      "cell_type": "code",
      "source": [
        "file_path = '/content/data/winequality-red.csv'\n",
        "df = pd.read_csv(file_path, sep=';')"
      ],
      "metadata": {
        "id": "5f8EnnnI1txN"
      },
      "execution_count": 4,
      "outputs": []
    },
    {
      "cell_type": "code",
      "source": [
        "bins = (0,5.5,10)\n",
        "df['quality'] = pd.to_numeric(df['quality'], errors='coerce')\n",
        "categories = pd.cut(df['quality'], bins, labels = ['bad','good'])\n",
        "df['quality'] = categories"
      ],
      "metadata": {
        "id": "iklIPgbM2Kmo"
      },
      "execution_count": 5,
      "outputs": []
    },
    {
      "cell_type": "code",
      "source": [
        "X = df.drop(['quality'], axis = 1)\n",
        "scaler = MinMaxScaler()\n",
        "X_new = scaler.fit_transform(X)\n",
        "y = df['quality']\n",
        "labelencoder_y = LabelEncoder()\n",
        "y = labelencoder_y.fit_transform(y)\n",
        "X_train, X_test, y_train, y_test = train_test_split(X, y, test_size = 0.2, random_state = 333)\n"
      ],
      "metadata": {
        "id": "CDtZWzCz2Vkq"
      },
      "execution_count": 6,
      "outputs": []
    },
    {
      "cell_type": "code",
      "source": [
        "clf1 = SVC(random_state=22)\n",
        "clf2 = DecisionTreeClassifier(random_state=23)\n",
        "clf3 = GaussianNB()\n"
      ],
      "metadata": {
        "id": "tA07OQjC2hrg"
      },
      "execution_count": 7,
      "outputs": []
    },
    {
      "cell_type": "code",
      "source": [
        "eclf = VotingClassifier(estimators=[('lr', clf1), ('rf', clf2), ('gnb', clf3)], voting='hard')\n",
        "eclf = eclf.fit(X_train, y_train)\n"
      ],
      "metadata": {
        "id": "j_tIVCVUxWa_"
      },
      "execution_count": 13,
      "outputs": []
    },
    {
      "cell_type": "code",
      "source": [
        "y_pred = eclf.predict(X_test)"
      ],
      "metadata": {
        "id": "OlN-QPLZ2tiP"
      },
      "execution_count": 10,
      "outputs": []
    },
    {
      "cell_type": "code",
      "source": [
        "print(\"Accuracy is {}\".format(accuracy_score(y_test, y_pred)))\n",
        "cm = confusion_matrix(y_test, y_pred)\n",
        "sns.heatmap(cm,annot=True,fmt='2.0f')\n"
      ],
      "metadata": {
        "colab": {
          "base_uri": "https://localhost:8080/",
          "height": 467
        },
        "id": "xppCzLS82zts",
        "outputId": "31fc7dd8-cbc5-4d00-bcf8-c53545af4466"
      },
      "execution_count": 11,
      "outputs": [
        {
          "output_type": "stream",
          "name": "stdout",
          "text": [
            "Accuracy is 0.765625\n"
          ]
        },
        {
          "output_type": "execute_result",
          "data": {
            "text/plain": [
              "<Axes: >"
            ]
          },
          "metadata": {},
          "execution_count": 11
        },
        {
          "output_type": "display_data",
          "data": {
            "text/plain": [
              "<Figure size 640x480 with 2 Axes>"
            ],
            "image/png": "[encoded data removed]"
          },
          "metadata": {}
        }
      ]
    }
  ]
}